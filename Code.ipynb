{
 "cells": [
  {
   "cell_type": "markdown",
   "metadata": {
    "id": "mA0J4cMIA76I"
   },
   "source": [
    "# FIT5212 S1 2021 \n",
    "# Assessment 2: \n",
    "\n",
    "\n",
    "Student information:\n",
    "\n",
    "- Family Name:- Nagrale\n",
    "- Given Name:- Prajyot\n"
   ]
  },
  {
   "cell_type": "markdown",
   "metadata": {
    "id": "wmRQg6PnBEyc"
   },
   "source": [
    "# Table of Contents:\n",
    "\n",
    "1. ** Task 1: Recommender System Callenge**\n",
    "\n",
    "- 1.1. Install Libraries\n",
    "- 1.2. Import Libraries\n",
    "- 1.3. Available GPU\n",
    "- 1.4. Read Data All\n",
    "- 1.5. Add Dataset\n",
    "- 1.6. Grouping Dataset\n",
    "- 1.7. Changing datatype\n",
    "- 1.8. Using .cat.codes\n",
    "- 1.9. Creating Sparse Matrix\n",
    "- 1.10. Recommonder Algorithm:\n",
    "- 1.10.1. **ALS** \n",
    "- - 1.10.1.1. Hyperparameters\n",
    "- - 1.10.1.2. Fit the model\n",
    "- - 1.10.1.3. Recommend Function\n",
    "- - 1.10.1.4. Getting sprase matrix from model\n",
    "- - 1.10.1.5. Recommend items for each users\n",
    "- - 1.10.1.6. Get top 15 items for each users from testing dataset\n",
    "- - 1.10.1.7. Creating output file \n",
    "- 1.10.2. **MF**\n",
    "- - 1.10.2.1. Encodes a pandas column with continous ids\n",
    "- - 1.10.2.2. Encodes rating data with continous user and movie ids\n",
    "- - 1.10.2.3. Encoding giving data\n",
    "- - 1.10.2.4. Creating Matrix factorization model\n",
    "- - 1.10.2.5. Traing the model\n",
    "- - 1.10.2.6. Unsqueeze the data\n",
    "- - 1.10.2.7. Creating loss function\n",
    "- - 1.10.2.8. Creating lenth for data\n",
    "- - 1.10.2.9. Hyper parameteres for MF function\n",
    "- - 1.10.2.10. Fitting different learning rate for the model\n",
    "- - 1.10.2.11. Getting the recommendation for testing data\n",
    "- - 1.10.2.12. Recommend top 15 items\n",
    "- - 1.10.2.13. Creating output file\n",
    "- 1.10.3. **MF with bias**\n",
    "- - 1.10.3.1. Creating MF with bias model\n",
    "- - 1.10.3.2. Hyper parameteres for MF bias function\n",
    "- - 1.10.3.3. Fitting different learning rate for the model\n",
    "- - 1.10.3.4. Getting the recommendation for testing data\n",
    "- - 1.10.3.5. Recommend top 15 items\n",
    "- - 1.10.3.6. Creating output file\n",
    "- 1.10.4. **Neural Network Model**\n",
    "- - 1.10.4.1. Creating NN with bias model\n",
    "- - 1.10.4.2. Hyper parameteres for MF bias function\n",
    "- - 1.10.4.3. Fitting different learning rate for the model\n",
    "- - 1.10.4.4. Getting the recommendation for testing data\n",
    "- - 1.10.4.5. Recommend top 15 items\n",
    "- - 1.10.4.6. Creating output file\n",
    "- 1.11. Analysis\n",
    "\n",
    "2. ** Task 2: Node Clustering in Graphs**\n",
    "\n",
    "- 2.1. Import Libraries\n",
    "- 2.2. Creating dataframe for adjedges file\n",
    "- 2.3. Creating dataframe for docs file\n",
    "- 2.4. Creating dataframe for labels file\n",
    "- 2.5. Merging all dataframe\n",
    "- 2.6. Assigning Graphs\n",
    "- 2.7. Creating Nodes\n",
    "- 2.8. Creating Edges\n",
    "- 2.9. Getting graph for all connected nodes\n",
    "- 2.10. ** Embedding: Node2Vec: **\n",
    "- - 2.10.1. Node2Vec: For all edges and nodes which has labels\n",
    "- - 2.10.2. Node2Vec: For all edges and all nodes \n",
    "- - 2.10.3. Node2Vec: For only those nodes that has edges and labels.\n",
    "- 2.11. Saving Model\n",
    "- 2.12. Checking embedding and similar nodes\n",
    "- 2.13. Creating Random seed numbers\n",
    "- 2.14. **K-means clustering:**\n",
    "- - 2.14.1. K-means clustering: For all edges and nodes which has labels\n",
    "- - 2.14.2. K-means clustering: For only those nodes that has edges and labels.\n",
    "- - 2.14.3. K-means clustering: For all edges and all nodes \n",
    "- - 2.15. Embedding: **laplacian_matrix**: \n",
    "2.16. Analysis"
   ]
  },
  {
   "cell_type": "markdown",
   "metadata": {
    "id": "cfQuwzEQBvdx"
   },
   "source": [
    "# 1. **Part 1: Recommender System Callenge**"
   ]
  },
  {
   "cell_type": "markdown",
   "metadata": {
    "id": "8SDX7Nw8B5-X"
   },
   "source": [
    "## 1.2. Install Libraries"
   ]
  },
  {
   "cell_type": "code",
   "execution_count": 5,
   "metadata": {
    "colab": {
     "base_uri": "https://localhost:8080/"
    },
    "id": "x_Y3xNu9dAYO",
    "outputId": "221a06e6-62e7-4632-cc09-b4b357975439"
   },
   "outputs": [
    {
     "name": "stdout",
     "output_type": "stream",
     "text": [
      "Requirement already satisfied: implicit in /Users/prajyotnagrale/opt/anaconda3/lib/python3.8/site-packages (0.4.4)\n",
      "Requirement already satisfied: numpy in /Users/prajyotnagrale/opt/anaconda3/lib/python3.8/site-packages (from implicit) (1.20.3)\n",
      "Requirement already satisfied: scipy>=0.16 in /Users/prajyotnagrale/opt/anaconda3/lib/python3.8/site-packages (from implicit) (1.6.3)\n",
      "Requirement already satisfied: tqdm>=4.27 in /Users/prajyotnagrale/opt/anaconda3/lib/python3.8/site-packages (from implicit) (4.59.0)\n",
      "Requirement already satisfied: node2vec in /Users/prajyotnagrale/opt/anaconda3/lib/python3.8/site-packages (0.4.3)\n",
      "Requirement already satisfied: numpy in /Users/prajyotnagrale/opt/anaconda3/lib/python3.8/site-packages (from node2vec) (1.20.3)\n",
      "Requirement already satisfied: networkx in /Users/prajyotnagrale/opt/anaconda3/lib/python3.8/site-packages (from node2vec) (2.5.1)\n",
      "Requirement already satisfied: joblib>=0.13.2 in /Users/prajyotnagrale/opt/anaconda3/lib/python3.8/site-packages (from node2vec) (1.0.1)\n",
      "Requirement already satisfied: gensim in /Users/prajyotnagrale/opt/anaconda3/lib/python3.8/site-packages (from node2vec) (4.0.1)\n",
      "Requirement already satisfied: tqdm in /Users/prajyotnagrale/opt/anaconda3/lib/python3.8/site-packages (from node2vec) (4.59.0)\n",
      "Requirement already satisfied: scipy>=0.18.1 in /Users/prajyotnagrale/opt/anaconda3/lib/python3.8/site-packages (from gensim->node2vec) (1.6.3)\n",
      "Requirement already satisfied: smart-open>=1.8.1 in /Users/prajyotnagrale/opt/anaconda3/lib/python3.8/site-packages (from gensim->node2vec) (5.0.0)\n",
      "Requirement already satisfied: decorator<5,>=4.3 in /Users/prajyotnagrale/opt/anaconda3/lib/python3.8/site-packages (from networkx->node2vec) (4.4.2)\n"
     ]
    }
   ],
   "source": [
    "!pip install implicit\n",
    "!pip3 install node2vec"
   ]
  },
  {
   "cell_type": "markdown",
   "metadata": {
    "id": "6T31Bpuqcq5i"
   },
   "source": [
    "Implicit and Node 2 Vec are the two packages which we will require to install"
   ]
  },
  {
   "cell_type": "markdown",
   "metadata": {
    "id": "sZanOiw5B_1i"
   },
   "source": [
    "## 1.2. Import Libraries"
   ]
  },
  {
   "cell_type": "code",
   "execution_count": 6,
   "metadata": {
    "id": "wKgGjcDeYxFd"
   },
   "outputs": [],
   "source": [
    "import pandas as pd\n",
    "import numpy as np\n",
    "\n",
    "import torch\n",
    "import torch.nn as nn\n",
    "import torch.nn.functional as F\n",
    "\n",
    "\n",
    "import implicit\n",
    "from sklearn.preprocessing import MinMaxScaler\n",
    "from sklearn import metrics\n",
    "import scipy.sparse as sparse\n",
    "\n",
    "# Importing defaultdict\n",
    "from collections import defaultdict\n",
    "\n",
    "import warnings\n",
    "from text_unidecode import unidecode\n",
    "from collections import deque\n",
    "warnings.filterwarnings('ignore')\n"
   ]
  },
  {
   "cell_type": "markdown",
   "metadata": {
    "id": "oM3TrDBWCJsR"
   },
   "source": [
    "## 1.3. Available GPU"
   ]
  },
  {
   "cell_type": "code",
   "execution_count": 7,
   "metadata": {
    "colab": {
     "base_uri": "https://localhost:8080/"
    },
    "id": "Xh5RtscbYz3k",
    "outputId": "e292d579-995f-4336-c967-932294e0cad8"
   },
   "outputs": [
    {
     "name": "stdout",
     "output_type": "stream",
     "text": [
      "No GPU available, using the CPU instead.\n"
     ]
    }
   ],
   "source": [
    "# If there's a GPU available...\n",
    "if torch.cuda.is_available():\n",
    "    # Tell PyTorch to use the GPU.\n",
    "    device = torch.device(\"cuda\")\n",
    "    print('There are %d GPU(s) available.' % torch.cuda.device_count())\n",
    "    print('We will use the GPU:', torch.cuda.get_device_name(0))\n",
    "# If not...\n",
    "else:\n",
    "    print('No GPU available, using the CPU instead.')\n",
    "    device = torch.device(\"cpu\")"
   ]
  },
  {
   "cell_type": "markdown",
   "metadata": {
    "id": "6fUlayNaY6Pi"
   },
   "source": [
    "## 1.4. Read Data All"
   ]
  },
  {
   "cell_type": "code",
   "execution_count": 8,
   "metadata": {
    "id": "D_4Inl1KY4fO"
   },
   "outputs": [],
   "source": [
    "DF_train = pd.read_csv('./res2021/flickr_train_data.csv')\n",
    "DF_test = pd.read_csv('./res2021/flickr_test_data.csv')\n",
    "DF_valid = pd.read_csv('./res2021/flickr_validation_data.csv')"
   ]
  },
  {
   "cell_type": "code",
   "execution_count": 9,
   "metadata": {
    "id": "mCx3FEo-dxg4"
   },
   "outputs": [
    {
     "data": {
      "text/html": [
       "<div>\n",
       "<style scoped>\n",
       "    .dataframe tbody tr th:only-of-type {\n",
       "        vertical-align: middle;\n",
       "    }\n",
       "\n",
       "    .dataframe tbody tr th {\n",
       "        vertical-align: top;\n",
       "    }\n",
       "\n",
       "    .dataframe thead th {\n",
       "        text-align: right;\n",
       "    }\n",
       "</style>\n",
       "<table border=\"1\" class=\"dataframe\">\n",
       "  <thead>\n",
       "    <tr style=\"text-align: right;\">\n",
       "      <th></th>\n",
       "      <th>user_id</th>\n",
       "      <th>item_id</th>\n",
       "      <th>rating</th>\n",
       "    </tr>\n",
       "  </thead>\n",
       "  <tbody>\n",
       "    <tr>\n",
       "      <th>0</th>\n",
       "      <td>0</td>\n",
       "      <td>0</td>\n",
       "      <td>1</td>\n",
       "    </tr>\n",
       "    <tr>\n",
       "      <th>1</th>\n",
       "      <td>0</td>\n",
       "      <td>1</td>\n",
       "      <td>1</td>\n",
       "    </tr>\n",
       "    <tr>\n",
       "      <th>2</th>\n",
       "      <td>0</td>\n",
       "      <td>2</td>\n",
       "      <td>1</td>\n",
       "    </tr>\n",
       "    <tr>\n",
       "      <th>3</th>\n",
       "      <td>0</td>\n",
       "      <td>3</td>\n",
       "      <td>1</td>\n",
       "    </tr>\n",
       "    <tr>\n",
       "      <th>4</th>\n",
       "      <td>0</td>\n",
       "      <td>4</td>\n",
       "      <td>1</td>\n",
       "    </tr>\n",
       "  </tbody>\n",
       "</table>\n",
       "</div>"
      ],
      "text/plain": [
       "   user_id  item_id  rating\n",
       "0        0        0       1\n",
       "1        0        1       1\n",
       "2        0        2       1\n",
       "3        0        3       1\n",
       "4        0        4       1"
      ]
     },
     "execution_count": 9,
     "metadata": {},
     "output_type": "execute_result"
    }
   ],
   "source": [
    "DF_train.head()"
   ]
  },
  {
   "cell_type": "code",
   "execution_count": 10,
   "metadata": {
    "id": "7eotgjODdy1b"
   },
   "outputs": [
    {
     "data": {
      "text/html": [
       "<div>\n",
       "<style scoped>\n",
       "    .dataframe tbody tr th:only-of-type {\n",
       "        vertical-align: middle;\n",
       "    }\n",
       "\n",
       "    .dataframe tbody tr th {\n",
       "        vertical-align: top;\n",
       "    }\n",
       "\n",
       "    .dataframe thead th {\n",
       "        text-align: right;\n",
       "    }\n",
       "</style>\n",
       "<table border=\"1\" class=\"dataframe\">\n",
       "  <thead>\n",
       "    <tr style=\"text-align: right;\">\n",
       "      <th></th>\n",
       "      <th>user_id</th>\n",
       "      <th>item_id</th>\n",
       "    </tr>\n",
       "  </thead>\n",
       "  <tbody>\n",
       "    <tr>\n",
       "      <th>0</th>\n",
       "      <td>0</td>\n",
       "      <td>8929</td>\n",
       "    </tr>\n",
       "    <tr>\n",
       "      <th>1</th>\n",
       "      <td>0</td>\n",
       "      <td>8906</td>\n",
       "    </tr>\n",
       "    <tr>\n",
       "      <th>2</th>\n",
       "      <td>0</td>\n",
       "      <td>8838</td>\n",
       "    </tr>\n",
       "    <tr>\n",
       "      <th>3</th>\n",
       "      <td>0</td>\n",
       "      <td>8821</td>\n",
       "    </tr>\n",
       "    <tr>\n",
       "      <th>4</th>\n",
       "      <td>0</td>\n",
       "      <td>8756</td>\n",
       "    </tr>\n",
       "  </tbody>\n",
       "</table>\n",
       "</div>"
      ],
      "text/plain": [
       "   user_id  item_id\n",
       "0        0     8929\n",
       "1        0     8906\n",
       "2        0     8838\n",
       "3        0     8821\n",
       "4        0     8756"
      ]
     },
     "execution_count": 10,
     "metadata": {},
     "output_type": "execute_result"
    }
   ],
   "source": [
    "DF_test.head()"
   ]
  },
  {
   "cell_type": "code",
   "execution_count": 11,
   "metadata": {
    "id": "FrjVJLSAd0uS"
   },
   "outputs": [
    {
     "data": {
      "text/html": [
       "<div>\n",
       "<style scoped>\n",
       "    .dataframe tbody tr th:only-of-type {\n",
       "        vertical-align: middle;\n",
       "    }\n",
       "\n",
       "    .dataframe tbody tr th {\n",
       "        vertical-align: top;\n",
       "    }\n",
       "\n",
       "    .dataframe thead th {\n",
       "        text-align: right;\n",
       "    }\n",
       "</style>\n",
       "<table border=\"1\" class=\"dataframe\">\n",
       "  <thead>\n",
       "    <tr style=\"text-align: right;\">\n",
       "      <th></th>\n",
       "      <th>user_id</th>\n",
       "      <th>item_id</th>\n",
       "      <th>rating</th>\n",
       "    </tr>\n",
       "  </thead>\n",
       "  <tbody>\n",
       "    <tr>\n",
       "      <th>0</th>\n",
       "      <td>0</td>\n",
       "      <td>20</td>\n",
       "      <td>1</td>\n",
       "    </tr>\n",
       "    <tr>\n",
       "      <th>1</th>\n",
       "      <td>0</td>\n",
       "      <td>3260</td>\n",
       "      <td>0</td>\n",
       "    </tr>\n",
       "    <tr>\n",
       "      <th>2</th>\n",
       "      <td>0</td>\n",
       "      <td>390</td>\n",
       "      <td>0</td>\n",
       "    </tr>\n",
       "    <tr>\n",
       "      <th>3</th>\n",
       "      <td>0</td>\n",
       "      <td>5425</td>\n",
       "      <td>0</td>\n",
       "    </tr>\n",
       "    <tr>\n",
       "      <th>4</th>\n",
       "      <td>0</td>\n",
       "      <td>8631</td>\n",
       "      <td>0</td>\n",
       "    </tr>\n",
       "  </tbody>\n",
       "</table>\n",
       "</div>"
      ],
      "text/plain": [
       "   user_id  item_id  rating\n",
       "0        0       20       1\n",
       "1        0     3260       0\n",
       "2        0      390       0\n",
       "3        0     5425       0\n",
       "4        0     8631       0"
      ]
     },
     "execution_count": 11,
     "metadata": {},
     "output_type": "execute_result"
    }
   ],
   "source": [
    "DF_valid.head()"
   ]
  },
  {
   "cell_type": "markdown",
   "metadata": {
    "id": "eeSzzCJVKdeJ"
   },
   "source": [
    "## 1.5. Add Dataset"
   ]
  },
  {
   "cell_type": "code",
   "execution_count": 12,
   "metadata": {
    "id": "nmTLjRFWY90o"
   },
   "outputs": [],
   "source": [
    "DF_train_val = DF_train.append(DF_valid)"
   ]
  },
  {
   "cell_type": "code",
   "execution_count": 13,
   "metadata": {
    "id": "FUC3nW1Id28D"
   },
   "outputs": [
    {
     "data": {
      "text/html": [
       "<div>\n",
       "<style scoped>\n",
       "    .dataframe tbody tr th:only-of-type {\n",
       "        vertical-align: middle;\n",
       "    }\n",
       "\n",
       "    .dataframe tbody tr th {\n",
       "        vertical-align: top;\n",
       "    }\n",
       "\n",
       "    .dataframe thead th {\n",
       "        text-align: right;\n",
       "    }\n",
       "</style>\n",
       "<table border=\"1\" class=\"dataframe\">\n",
       "  <thead>\n",
       "    <tr style=\"text-align: right;\">\n",
       "      <th></th>\n",
       "      <th>user_id</th>\n",
       "      <th>item_id</th>\n",
       "      <th>rating</th>\n",
       "    </tr>\n",
       "  </thead>\n",
       "  <tbody>\n",
       "    <tr>\n",
       "      <th>0</th>\n",
       "      <td>0</td>\n",
       "      <td>0</td>\n",
       "      <td>1</td>\n",
       "    </tr>\n",
       "    <tr>\n",
       "      <th>1</th>\n",
       "      <td>0</td>\n",
       "      <td>1</td>\n",
       "      <td>1</td>\n",
       "    </tr>\n",
       "    <tr>\n",
       "      <th>2</th>\n",
       "      <td>0</td>\n",
       "      <td>2</td>\n",
       "      <td>1</td>\n",
       "    </tr>\n",
       "    <tr>\n",
       "      <th>3</th>\n",
       "      <td>0</td>\n",
       "      <td>3</td>\n",
       "      <td>1</td>\n",
       "    </tr>\n",
       "    <tr>\n",
       "      <th>4</th>\n",
       "      <td>0</td>\n",
       "      <td>4</td>\n",
       "      <td>1</td>\n",
       "    </tr>\n",
       "  </tbody>\n",
       "</table>\n",
       "</div>"
      ],
      "text/plain": [
       "   user_id  item_id  rating\n",
       "0        0        0       1\n",
       "1        0        1       1\n",
       "2        0        2       1\n",
       "3        0        3       1\n",
       "4        0        4       1"
      ]
     },
     "execution_count": 13,
     "metadata": {},
     "output_type": "execute_result"
    }
   ],
   "source": [
    "DF_train_val.head()"
   ]
  },
  {
   "cell_type": "markdown",
   "metadata": {
    "id": "oqQpf3Jpd4TI"
   },
   "source": [
    "I mergered all the train and validation dataset together to increase the training datasize of the file. The more the size of the sample dataset its more helpful for the model to get closer to the population dataset."
   ]
  },
  {
   "cell_type": "markdown",
   "metadata": {
    "id": "VvnPmdSpZ35P"
   },
   "source": [
    "## 1.6. Grouping Dataset"
   ]
  },
  {
   "cell_type": "code",
   "execution_count": 14,
   "metadata": {
    "id": "t4Emt43LZAoi"
   },
   "outputs": [],
   "source": [
    "grouped_df = DF_train_val.groupby(['user_id', 'item_id', 'rating']).sum().reset_index()"
   ]
  },
  {
   "cell_type": "markdown",
   "metadata": {
    "id": "p6Bm7yTTeNnT"
   },
   "source": [
    "This will help to group and sort the users and items as per the ratings. "
   ]
  },
  {
   "cell_type": "markdown",
   "metadata": {
    "id": "YV1YN8KWKv64"
   },
   "source": [
    "## 1.7. Changing datatype"
   ]
  },
  {
   "cell_type": "code",
   "execution_count": 15,
   "metadata": {
    "id": "YKARf6HNj4Uc"
   },
   "outputs": [],
   "source": [
    "grouped_df['user_id'] = grouped_df['user_id'].astype(\"category\")\n",
    "grouped_df['item_id'] = grouped_df['item_id'].astype(\"category\")"
   ]
  },
  {
   "cell_type": "markdown",
   "metadata": {
    "id": "tIQG9BS8eVMo"
   },
   "source": [
    "Changing the datatype to category to do cat.codes for each feature"
   ]
  },
  {
   "cell_type": "markdown",
   "metadata": {
    "id": "4BjfTezmK7no"
   },
   "source": [
    "## 1.8. Using .cat.codes"
   ]
  },
  {
   "cell_type": "code",
   "execution_count": 16,
   "metadata": {
    "id": "C7W42t3vZ8iX"
   },
   "outputs": [],
   "source": [
    "grouped_df['user_id'] = grouped_df['user_id'].cat.codes\n",
    "grouped_df['item_id'] = grouped_df['item_id'].cat.codes"
   ]
  },
  {
   "cell_type": "markdown",
   "metadata": {
    "id": "8rXoUXj1LCNU"
   },
   "source": [
    "## 1.9. Creating Sparse Matrix"
   ]
  },
  {
   "cell_type": "code",
   "execution_count": 17,
   "metadata": {
    "id": "K-xHaOSUZSTg"
   },
   "outputs": [],
   "source": [
    "sparse_item_user = sparse.csr_matrix((grouped_df['rating'].astype(float), (grouped_df['item_id'], grouped_df['user_id'])))\n",
    "sparse_user_item = sparse.csr_matrix((grouped_df['rating'].astype(float), (grouped_df['user_id'], grouped_df['item_id'])))"
   ]
  },
  {
   "cell_type": "code",
   "execution_count": 18,
   "metadata": {
    "colab": {
     "base_uri": "https://localhost:8080/"
    },
    "id": "JUKagHcLZrif",
    "outputId": "d7183192-abfa-49a3-ce5a-5574d2c76215"
   },
   "outputs": [
    {
     "data": {
      "text/plain": [
       "<9004x3466 sparse matrix of type '<class 'numpy.float64'>'\n",
       "\twith 454846 stored elements in Compressed Sparse Row format>"
      ]
     },
     "execution_count": 18,
     "metadata": {},
     "output_type": "execute_result"
    }
   ],
   "source": [
    "sparse_item_user"
   ]
  },
  {
   "cell_type": "code",
   "execution_count": 19,
   "metadata": {
    "colab": {
     "base_uri": "https://localhost:8080/"
    },
    "id": "73MU-KflZt4H",
    "outputId": "3689b615-f950-4d1b-e0b2-97b86b56a8af"
   },
   "outputs": [
    {
     "data": {
      "text/plain": [
       "<3466x9004 sparse matrix of type '<class 'numpy.float64'>'\n",
       "\twith 454846 stored elements in Compressed Sparse Row format>"
      ]
     },
     "execution_count": 19,
     "metadata": {},
     "output_type": "execute_result"
    }
   ],
   "source": [
    "sparse_user_item"
   ]
  },
  {
   "cell_type": "markdown",
   "metadata": {
    "id": "_Md2BrRqedS_"
   },
   "source": [
    "I used sparse matrix to reduce the dimension of the of the users and items. This helps to reduce the size of the matrix and helps to do the computation faster. "
   ]
  },
  {
   "cell_type": "markdown",
   "metadata": {
    "id": "ywgjOmr8LMHX"
   },
   "source": [
    "## 1.10. Models:"
   ]
  },
  {
   "cell_type": "markdown",
   "metadata": {
    "id": "kYBYTXFkLTgo"
   },
   "source": [
    "## 1.10.1. ALS Model\n",
    "Explicit feedbacks are appraisals positioned on a concrete rating scale (such as from 1 to 5 stars). Users’ inclinations are expressly shown when they rate a thing that they like higher than a thing they don't like. Certain feedbacks are inferred within the client activities. The basic suspicion is that “if a client clicked/viewed/spent time on a thing regularly, it is a sign of its inclination for that item”. Certain criticism comes in numerous shapes, browsing, clicking, writing,... while unequivocal criticism exclusively comes from a few sort of evaluations scale. Express feedback is simple to work with, as the appraisals given by a client can be straightforwardly translated as the user’s inclinations, making its forecasts based on that more significant. Be that as it may, it is much less visit than verifiable input because it is badly arranged for the clients to rate everything that they associated with (and they ordinarily do not). Implicit feedback is less demanding to gather in huge amounts without any additional exertion on the user’s side and as such is much more visit. Although these strategies of suggestions are not commonly elite, in this area we’re focussing on a recommender exclusively based on verifiable appraisals.\n",
    "\n",
    "The thought of lattice factorization is essentially to require an awfully huge network and part it up into two littler frameworks whose product equals the initial one. Substituting Slightest Squares could be a frame of network factorization that decreases this user-item framework to a much littler sum of measurement called inactive or covered up highlights. And it does so exceptionally computationally compelling.\n",
    "## 1.10.1.1. Hyperparameters"
   ]
  },
  {
   "cell_type": "code",
   "execution_count": 20,
   "metadata": {
    "colab": {
     "base_uri": "https://localhost:8080/"
    },
    "id": "U9RKSJ4hZvFE",
    "outputId": "e8360530-9d0e-42af-bfbe-8932a61d713a"
   },
   "outputs": [
    {
     "name": "stderr",
     "output_type": "stream",
     "text": [
      "WARNING:root:OpenBLAS detected. Its highly recommend to set the environment variable 'export OPENBLAS_NUM_THREADS=1' to disable its internal multithreading\n"
     ]
    }
   ],
   "source": [
    "model = implicit.als.AlternatingLeastSquares(factors=10, regularization=0.5, iterations=500)"
   ]
  },
  {
   "cell_type": "markdown",
   "metadata": {
    "id": "6cY0RqORLeZD"
   },
   "source": [
    "I manually hyper-tuned the ALS paramteres and  go the below output from kaggle. \n",
    "\n",
    "1.   factors=32, regularization=0.1, iterations=50: Kaggle Score = 0.19\n",
    "2.   factors=64, regularization=0.1, iterations=50: Kaggle Score = 0.17\n",
    "3.   factors=32, regularization=0.01, iterations=50: Kaggle Score = 0.18\n",
    "4.   factors=32, regularization=1, iterations=50: Kaggle Score = 0.19\n",
    "5.   factors=32, regularization=1, iterations=100: Kaggle Score = 0.195\n",
    "6.   factors=32, regularization=10, iterations=100: Kaggle Score = 0.19336\n",
    "7.   factors=32, regularization=1000, iterations=100: Kaggle Score = 0.07\n",
    "8.   factors=32, regularization=1, iterations=1000: Kaggle Score = 0.19296f\n",
    "9.   factors=10, regularization=0.5, iterations=500: Kaggle Score = **0.22181**\n"
   ]
  },
  {
   "cell_type": "code",
   "execution_count": 21,
   "metadata": {
    "colab": {
     "base_uri": "https://localhost:8080/"
    },
    "id": "_Q23kRjCaK9g",
    "outputId": "7153e363-c532-4db7-9bf2-620c41a64eb1"
   },
   "outputs": [
    {
     "data": {
      "text/plain": [
       "matrix([[35.,  0.,  0., ...,  0.,  0.,  0.]])"
      ]
     },
     "execution_count": 21,
     "metadata": {},
     "output_type": "execute_result"
    }
   ],
   "source": [
    "alpha = 35\n",
    "data = (sparse_item_user * alpha).astype('double')\n",
    "data[1,:].todense()"
   ]
  },
  {
   "cell_type": "markdown",
   "metadata": {
    "id": "4mhpczwfMBhB"
   },
   "source": [
    "## 1.10.1.2. Fit the model"
   ]
  },
  {
   "cell_type": "code",
   "execution_count": 22,
   "metadata": {
    "colab": {
     "base_uri": "https://localhost:8080/",
     "height": 66,
     "referenced_widgets": [
      "4cc362bb1cfd46b78f35432331979692",
      "58b16bc979944eeb8b73871cf539667a",
      "41aa68f042a84871a2b19b85b57b0d8f",
      "84df230429b347a4b8bb8b80454d3074",
      "cd0d67bfb7fd4b169d539da74119f79a",
      "f9d00f73974d453b88d666e63e4f4b0c",
      "b41553a86604464494f557c97d780255",
      "ca9f13f0673446f49011cd27521d966e",
      "2c9ae194e8064ef2adb8704b6eea490e"
     ]
    },
    "id": "zwiIF3w2aRCZ",
    "outputId": "2ed2dc06-8e34-44ff-a9a8-38db4a0d5ea8"
   },
   "outputs": [
    {
     "data": {
      "application/vnd.jupyter.widget-view+json": {
       "model_id": "0dba4cf6f163412788070522426a76f8",
       "version_major": 2,
       "version_minor": 0
      },
      "text/plain": [
       "  0%|          | 0/500 [00:00<?, ?it/s]"
      ]
     },
     "metadata": {},
     "output_type": "display_data"
    }
   ],
   "source": [
    "model.fit(data)"
   ]
  },
  {
   "cell_type": "markdown",
   "metadata": {
    "id": "1cRjhQGgMEnc"
   },
   "source": [
    "## 1.10.1.3. Recommend Function\n",
    "\n",
    "Get the intuitive score from the meager individual substance matrix. Add 1 to everything, so that articles with no interaction however ended up break even with to 1. Make articles as of now associating zero. Get speck item of individual vector and all substance vectors. Scale this suggestion vector between and 1. Content as of now connecting have their proposal increased by zero. Sort the lists of the substance into arranging of best recommendations. Start purge list to store titles and scores. Append titles and scores to the list. Get the prepared individual and substance vectors. We change over them to CSR matrices. Create suggestions for individual with id 5."
   ]
  },
  {
   "cell_type": "code",
   "execution_count": 23,
   "metadata": {
    "id": "j_elCVXXaWTx"
   },
   "outputs": [],
   "source": [
    "def recommend(person_id, sparse_person_content, person_vecs, content_vecs):\n",
    "    # Get the interactions scores from the sparse person content matrix\n",
    "    person_interactions = sparse_person_content[person_id,:].toarray()\n",
    "    # Add 1 to everything, so that articles with no interaction yet become equal to 1\n",
    "    person_interactions = person_interactions.reshape(-1) + 1\n",
    "    # Make articles already interacted zero\n",
    "    person_interactions[person_interactions > 1] = 0\n",
    "    # Get dot product of person vector and all content vectors\n",
    "    rec_vector = person_vecs[person_id,:].dot(content_vecs.T).toarray()\n",
    "    # Scale this recommendation vector between 0 and 1\n",
    "    min_max = MinMaxScaler()\n",
    "    rec_vector_scaled = min_max.fit_transform(rec_vector.reshape(-1,1))[:,0]\n",
    "    # Content already interacted have their recommendation multiplied by zero\n",
    "    recommend_vector = person_interactions * rec_vector_scaled\n",
    "    # Sort the indices of the content into order of best recommendations\n",
    "    # content_idx = np.argsort(recommend_vector)[::-1][:num_contents]\n",
    "    content_idx = np.argsort(recommend_vector)[::-1]\n",
    "    # Start empty list to store titles and scores\n",
    "    titles = content_idx.tolist()\n",
    "\n",
    "    return titles"
   ]
  },
  {
   "cell_type": "markdown",
   "metadata": {
    "id": "hgnKmo9TfoeF"
   },
   "source": [
    "I used the above recommender function to get the recommended items for each user. The above function will give me all the items with the recommendation score for each user. "
   ]
  },
  {
   "cell_type": "markdown",
   "metadata": {
    "id": "Qb9a73AmMQho"
   },
   "source": [
    "## 1.10.1.4. Getting sprase matrix from model"
   ]
  },
  {
   "cell_type": "code",
   "execution_count": 24,
   "metadata": {
    "id": "Xb7Ub2SthO7K"
   },
   "outputs": [],
   "source": [
    "# Get the trained person and content vectors. We convert them to csr matrices\n",
    "person_vecs = sparse.csr_matrix(model.user_factors)\n",
    "content_vecs = sparse.csr_matrix(model.item_factors)"
   ]
  },
  {
   "cell_type": "markdown",
   "metadata": {
    "id": "_yRXM52NMZwn"
   },
   "source": [
    "## 1.10.1.5. Recommend items for each users"
   ]
  },
  {
   "cell_type": "code",
   "execution_count": 25,
   "metadata": {
    "id": "huSiYsCuaX7R"
   },
   "outputs": [],
   "source": [
    "dic_user_items = defaultdict(list)\n",
    "\n",
    "for id in grouped_df['user_id'].unique():\n",
    "\n",
    "  person_id = id\n",
    "\n",
    "  item_15_list = []\n",
    "\n",
    "  recommendations = recommend(person_id, sparse_user_item, person_vecs, content_vecs)\n",
    "\n",
    "  dic_user_items[person_id] = recommendations\n"
   ]
  },
  {
   "cell_type": "markdown",
   "metadata": {
    "id": "lvBV6H9Lf4Te"
   },
   "source": [
    "The above iteration creates a dictionary to join all the items for each user in a sorted format. "
   ]
  },
  {
   "cell_type": "markdown",
   "metadata": {
    "id": "sGFA_gJAMpdr"
   },
   "source": [
    "## 1.10.1.6. Get top 15 items for each users from testing dataset"
   ]
  },
  {
   "cell_type": "code",
   "execution_count": 26,
   "metadata": {
    "id": "YsyjMwM0aZbo"
   },
   "outputs": [],
   "source": [
    "df_output = pd.DataFrame(columns=['user_id', 'item_id'])\n",
    "\n",
    "for id in DF_test['user_id'].unique():\n",
    "\n",
    "  a = 0\n",
    "  item_list = []  \n",
    "  \n",
    "  test_items_100 = DF_test[DF_test['user_id'] == id]['item_id'].values\n",
    "\n",
    "  for train_item in dic_user_items[id]:\n",
    "\n",
    "    if train_item in test_items_100:\n",
    "      # print(id, train_item)\n",
    "      a += 1\n",
    "      df_output = df_output.append(pd.Series([id, train_item], index=['user_id','item_id']), ignore_index=True)\n",
    "      # item_list.append(train_item)\n",
    "      \n",
    "    if a == 15:\n",
    "      break"
   ]
  },
  {
   "cell_type": "markdown",
   "metadata": {
    "id": "gl0nJwR9gGvI"
   },
   "source": [
    "The above iteration gives me check the items for user in testing data and give the top 15 recommendation items for each user. This recommended items are learned from the recommended function."
   ]
  },
  {
   "cell_type": "code",
   "execution_count": 29,
   "metadata": {
    "colab": {
     "base_uri": "https://localhost:8080/"
    },
    "id": "WKcBCAZqab9r",
    "outputId": "d0fd9e43-c786-438e-fd7c-fe027cd9cd9e"
   },
   "outputs": [
    {
     "data": {
      "text/html": [
       "<div>\n",
       "<style scoped>\n",
       "    .dataframe tbody tr th:only-of-type {\n",
       "        vertical-align: middle;\n",
       "    }\n",
       "\n",
       "    .dataframe tbody tr th {\n",
       "        vertical-align: top;\n",
       "    }\n",
       "\n",
       "    .dataframe thead th {\n",
       "        text-align: right;\n",
       "    }\n",
       "</style>\n",
       "<table border=\"1\" class=\"dataframe\">\n",
       "  <thead>\n",
       "    <tr style=\"text-align: right;\">\n",
       "      <th></th>\n",
       "      <th>user_id</th>\n",
       "      <th>item_id</th>\n",
       "    </tr>\n",
       "  </thead>\n",
       "  <tbody>\n",
       "    <tr>\n",
       "      <th>0</th>\n",
       "      <td>0</td>\n",
       "      <td>6343</td>\n",
       "    </tr>\n",
       "    <tr>\n",
       "      <th>1</th>\n",
       "      <td>0</td>\n",
       "      <td>7128</td>\n",
       "    </tr>\n",
       "    <tr>\n",
       "      <th>2</th>\n",
       "      <td>0</td>\n",
       "      <td>2607</td>\n",
       "    </tr>\n",
       "    <tr>\n",
       "      <th>3</th>\n",
       "      <td>0</td>\n",
       "      <td>838</td>\n",
       "    </tr>\n",
       "    <tr>\n",
       "      <th>4</th>\n",
       "      <td>0</td>\n",
       "      <td>3448</td>\n",
       "    </tr>\n",
       "  </tbody>\n",
       "</table>\n",
       "</div>"
      ],
      "text/plain": [
       "  user_id item_id\n",
       "0       0    6343\n",
       "1       0    7128\n",
       "2       0    2607\n",
       "3       0     838\n",
       "4       0    3448"
      ]
     },
     "execution_count": 29,
     "metadata": {},
     "output_type": "execute_result"
    }
   ],
   "source": [
    "df_output.head()"
   ]
  },
  {
   "cell_type": "markdown",
   "metadata": {
    "id": "H5di7VZBM09v"
   },
   "source": [
    "## 1.10.1.7. Creating output file "
   ]
  },
  {
   "cell_type": "code",
   "execution_count": 30,
   "metadata": {
    "id": "_XKIl4Hbadic"
   },
   "outputs": [],
   "source": [
    "path_test = './output/31132324_output.csv'\n",
    "df_output.to_csv(path_test, index = False)"
   ]
  },
  {
   "cell_type": "markdown",
   "metadata": {
    "id": "G-QMZhk6gYmq"
   },
   "source": [
    "After tuning multiple ALS model in kaggle dataset:\n",
    "\n",
    "1.   factors=32, regularization=0.1, iterations=50: Kaggle Score = 0.19\n",
    "2.   factors=64, regularization=0.1, iterations=50: Kaggle Score = 0.17\n",
    "3.   factors=32, regularization=0.01, iterations=50: Kaggle Score = 0.18\n",
    "4.   factors=32, regularization=1, iterations=50: Kaggle Score = 0.19\n",
    "5.   factors=32, regularization=1, iterations=100: Kaggle Score = 0.195\n",
    "6.   factors=32, regularization=10, iterations=100: Kaggle Score = 0.19336\n",
    "7.   factors=32, regularization=1000, iterations=100: Kaggle Score = 0.07\n",
    "8.   factors=32, regularization=1, iterations=1000: Kaggle Score = 0.19296f\n",
    "9.   factors=10, regularization=0.5, iterations=500: Kaggle Score = **0.22181**\n",
    "\n",
    "The highest score i got from the ALS wa 0.22181 with the hyper parameters as factors as 10, regularization as 0.5 and iterations=500. I have also changes to alpha to 35. "
   ]
  },
  {
   "cell_type": "markdown",
   "metadata": {
    "id": "KpZswZ2UAwpY"
   },
   "source": [
    "## 1.10.2. MF\n",
    "\n",
    "Matrix factorization is the breaking down of one framework into a item of different networks. It’s amazingly well examined in arithmetic, and it’s exceedingly valuable. There are numerous distinctive ways to calculate networks, but particular esteem deterioration is especially valuable for making proposals."
   ]
  },
  {
   "cell_type": "markdown",
   "metadata": {
    "id": "xjC5guOkNKc8"
   },
   "source": [
    "## 1.10.2.1. Encodes a pandas column with continous ids"
   ]
  },
  {
   "cell_type": "code",
   "execution_count": 31,
   "metadata": {
    "id": "NmsEcDfUAwpY"
   },
   "outputs": [],
   "source": [
    "# A handy function modified from fast.ai\n",
    "def proc_col(col, train_col=None):\n",
    "    #Encodes a pandas column with continous ids. \n",
    "    if train_col is not None:\n",
    "        uniq = train_col.unique()\n",
    "    else:\n",
    "        uniq = col.unique()\n",
    "    name2idx = {o:i for i,o in enumerate(uniq)}\n",
    "    return name2idx, np.array([name2idx.get(x, -1) for x in col]), len(uniq)"
   ]
  },
  {
   "cell_type": "markdown",
   "metadata": {
    "id": "h5g04eUgNcVX"
   },
   "source": [
    "## 1.10.2.2. Encodes rating data with continous user and movie ids"
   ]
  },
  {
   "cell_type": "code",
   "execution_count": 32,
   "metadata": {
    "id": "LA5W0_lVAwpZ"
   },
   "outputs": [],
   "source": [
    "def encode_data(df, train=None):\n",
    "    #Encodes rating data with continous user and movie ids. If train is provided, encodes df with the same encoding as train.\n",
    "    df = df.copy()\n",
    "    for col_name in [\"user_id\", \"item_id\"]:\n",
    "        train_col = None\n",
    "        if train is not None:\n",
    "            train_col = train[col_name]\n",
    "        _,col,_ = proc_col(df[col_name], train_col)\n",
    "        df[col_name] = col\n",
    "        df = df[df[col_name] >= 0]\n",
    "    return df"
   ]
  },
  {
   "cell_type": "markdown",
   "metadata": {
    "id": "iyMDTWhVNj8g"
   },
   "source": [
    "## 1.10.2.3. Encoding giving data"
   ]
  },
  {
   "cell_type": "code",
   "execution_count": 33,
   "metadata": {
    "id": "WzYDlq0WAwpZ"
   },
   "outputs": [],
   "source": [
    "train = DF_train\n",
    "val = DF_valid\n",
    "# encoding the train and validation data\n",
    "df_train = encode_data(train)\n",
    "df_val = encode_data(val, train)"
   ]
  },
  {
   "cell_type": "markdown",
   "metadata": {
    "id": "UHiXJMIdAwpa"
   },
   "source": [
    "## 1.10.2.4. Creating Matrix factorization model"
   ]
  },
  {
   "cell_type": "code",
   "execution_count": 34,
   "metadata": {
    "id": "4i65z7jFAwpa"
   },
   "outputs": [],
   "source": [
    "class MF(nn.Module):\n",
    "    def __init__(self, num_users, num_items, emb_size=100):\n",
    "        super(MF, self).__init__()\n",
    "        self.user_emb = nn.Embedding(num_users, emb_size)\n",
    "        self.item_emb = nn.Embedding(num_items, emb_size)\n",
    "        self.user_emb.weight.data.uniform_(0, 0.05)\n",
    "        self.item_emb.weight.data.uniform_(0, 0.05)\n",
    "        \n",
    "    def forward(self, u, v):\n",
    "        u = self.user_emb(u)\n",
    "        v = self.item_emb(v)\n",
    "        return (u*v).sum(1)   "
   ]
  },
  {
   "cell_type": "markdown",
   "metadata": {
    "id": "ygx7xWUoOdt5"
   },
   "source": [
    "## 1.10.2.5. Traing the model"
   ]
  },
  {
   "cell_type": "code",
   "execution_count": 35,
   "metadata": {
    "id": "Ou_IIdraAwpb"
   },
   "outputs": [],
   "source": [
    "def train_epocs(model, epochs, lr, wd=0.0, unsqueeze=False):\n",
    "    optimizer = torch.optim.Adam(model.parameters(), lr=lr, weight_decay=wd)\n",
    "    model.train()\n",
    "    for i in range(epochs):\n",
    "        users = torch.LongTensor(df_train.user_id.values) # .cuda()\n",
    "        items = torch.LongTensor(df_train.item_id.values) #.cuda()\n",
    "        ratings = torch.FloatTensor(df_train.rating.values) #.cuda()\n",
    "        if unsqueeze:\n",
    "            ratings = ratings.unsqueeze(1)\n",
    "        y_hat = model(users, items)\n",
    "        loss = F.mse_loss(y_hat, ratings)\n",
    "        optimizer.zero_grad()\n",
    "        loss.backward()\n",
    "        optimizer.step()\n",
    "        print(loss.item()) \n",
    "    test_loss(model, unsqueeze)"
   ]
  },
  {
   "cell_type": "markdown",
   "metadata": {
    "id": "FEL_qk9zOqxo"
   },
   "source": [
    "## 1.10.2.6. Unsqueeze the data"
   ]
  },
  {
   "cell_type": "code",
   "execution_count": 36,
   "metadata": {
    "id": "2QyaKJwAAwpc",
    "outputId": "a9ca7812-fe44-48b8-876f-c2fe31d26f34"
   },
   "outputs": [
    {
     "name": "stdout",
     "output_type": "stream",
     "text": [
      "torch.Size([110129])\n",
      "torch.Size([110129, 1])\n"
     ]
    }
   ],
   "source": [
    "# Here is what unsqueeze does\n",
    "ratings = torch.FloatTensor(df_train.rating.values)\n",
    "print(ratings.shape)\n",
    "ratings = ratings.unsqueeze(1) # .cuda()\n",
    "print(ratings.shape)"
   ]
  },
  {
   "cell_type": "markdown",
   "metadata": {
    "id": "tqy3fqWoO0UU"
   },
   "source": [
    "## 1.10.2.7. Creating loss function"
   ]
  },
  {
   "cell_type": "code",
   "execution_count": 37,
   "metadata": {
    "id": "mfztHLSSAwpd"
   },
   "outputs": [],
   "source": [
    "def test_loss(model, unsqueeze=False):\n",
    "    model.eval()\n",
    "    users = torch.LongTensor(df_val.user_id.values) #.cuda()\n",
    "    items = torch.LongTensor(df_val.item_id.values) #.cuda()\n",
    "    ratings = torch.FloatTensor(df_val.rating.values) #.cuda()\n",
    "    if unsqueeze:\n",
    "        ratings = ratings.unsqueeze(1)\n",
    "    y_hat = model(users, items)\n",
    "    loss = F.mse_loss(y_hat, ratings)\n",
    "    print(\"test loss %.3f \" % loss.item())"
   ]
  },
  {
   "cell_type": "markdown",
   "metadata": {
    "id": "zBfDWRwlO7Cw"
   },
   "source": [
    "## 1.10.2.8. Creating lenth for data"
   ]
  },
  {
   "cell_type": "code",
   "execution_count": 38,
   "metadata": {
    "id": "hJ-8-ouyAwpf",
    "outputId": "1e040fd8-e9da-4e19-8d8e-ccf8e3f5993c"
   },
   "outputs": [
    {
     "name": "stdout",
     "output_type": "stream",
     "text": [
      "3466 9004\n"
     ]
    }
   ],
   "source": [
    "num_users = len(df_train.user_id.unique())\n",
    "num_items = len(df_train.item_id.unique())\n",
    "print(num_users, num_items) "
   ]
  },
  {
   "cell_type": "markdown",
   "metadata": {
    "id": "M5Fuk5r0PD2T"
   },
   "source": [
    "## 1.10.2.9. Hyper parameteres for MF function"
   ]
  },
  {
   "cell_type": "code",
   "execution_count": 39,
   "metadata": {
    "id": "EeFhU8TzAwpg"
   },
   "outputs": [],
   "source": [
    "model = MF(num_users, num_items, emb_size=100) # .cuda() if you have a GPU"
   ]
  },
  {
   "cell_type": "markdown",
   "metadata": {
    "id": "TDx8hADgPNZj"
   },
   "source": [
    "## 1.10.2.10. Fitting different learning rate for the model"
   ]
  },
  {
   "cell_type": "code",
   "execution_count": 40,
   "metadata": {
    "id": "yKhZDB1UAwph",
    "outputId": "cf2dc6b0-2b97-464a-c8c2-7ee4ae2a71e7"
   },
   "outputs": [
    {
     "name": "stdout",
     "output_type": "stream",
     "text": [
      "0.8787196278572083\n",
      "0.31396105885505676\n",
      "0.18184678256511688\n",
      "0.3104730546474457\n",
      "0.08927390724420547\n",
      "0.07387356460094452\n",
      "0.18990033864974976\n",
      "0.0020962555427104235\n",
      "0.08762939274311066\n",
      "0.13700293004512787\n",
      "test loss 0.550 \n",
      "0.055980004370212555\n",
      "0.0036485232412815094\n",
      "0.0134996073320508\n",
      "0.026498951017856598\n",
      "0.015459938906133175\n",
      "0.0028429364319890738\n",
      "0.0013618801021948457\n",
      "0.007681841962039471\n",
      "0.012490443885326385\n",
      "0.01132411602884531\n",
      "test loss 0.808 \n",
      "0.006051823031157255\n",
      "0.0034920896869152784\n",
      "0.0016707621980458498\n",
      "0.0005872951587662101\n",
      "0.00017497599765192717\n",
      "0.0002688763488549739\n",
      "0.0006189891719259322\n",
      "0.0009729261510074139\n",
      "0.001167752081528306\n",
      "0.0011570386122912169\n",
      "test loss 1.009 \n",
      "0.0009790121112018824\n",
      "0.0008595541585236788\n",
      "0.0007484555244445801\n",
      "0.0006458081188611686\n",
      "0.0005516641540452838\n",
      "0.00046603099326603115\n",
      "0.00038886538823135197\n",
      "0.00032006733817979693\n",
      "0.0002594756369944662\n",
      "0.00020686254720203578\n",
      "test loss 0.972 \n"
     ]
    }
   ],
   "source": [
    "lr_r = [0.1, 0.01, 0.001, 0.0001]\n",
    "for lr_i in lr_r:\n",
    "    train_epocs(model, epochs=10, lr=lr_i)"
   ]
  },
  {
   "cell_type": "markdown",
   "metadata": {
    "id": "R9Oda9xePYbD"
   },
   "source": [
    "## 1.10.2.11. Getting the recommendation for testing data"
   ]
  },
  {
   "cell_type": "code",
   "execution_count": 41,
   "metadata": {
    "id": "Q2p1g3cxAwph",
    "outputId": "4987bf2c-1438-4519-bdf0-70e8f944191d"
   },
   "outputs": [
    {
     "data": {
      "text/html": [
       "<div>\n",
       "<style scoped>\n",
       "    .dataframe tbody tr th:only-of-type {\n",
       "        vertical-align: middle;\n",
       "    }\n",
       "\n",
       "    .dataframe tbody tr th {\n",
       "        vertical-align: top;\n",
       "    }\n",
       "\n",
       "    .dataframe thead th {\n",
       "        text-align: right;\n",
       "    }\n",
       "</style>\n",
       "<table border=\"1\" class=\"dataframe\">\n",
       "  <thead>\n",
       "    <tr style=\"text-align: right;\">\n",
       "      <th></th>\n",
       "      <th>user_id</th>\n",
       "      <th>item_id</th>\n",
       "      <th>rating</th>\n",
       "    </tr>\n",
       "  </thead>\n",
       "  <tbody>\n",
       "    <tr>\n",
       "      <th>0</th>\n",
       "      <td>0</td>\n",
       "      <td>8929</td>\n",
       "      <td>0.986884</td>\n",
       "    </tr>\n",
       "    <tr>\n",
       "      <th>1</th>\n",
       "      <td>0</td>\n",
       "      <td>8906</td>\n",
       "      <td>1.000481</td>\n",
       "    </tr>\n",
       "    <tr>\n",
       "      <th>2</th>\n",
       "      <td>0</td>\n",
       "      <td>8838</td>\n",
       "      <td>0.992950</td>\n",
       "    </tr>\n",
       "    <tr>\n",
       "      <th>3</th>\n",
       "      <td>0</td>\n",
       "      <td>8821</td>\n",
       "      <td>1.002184</td>\n",
       "    </tr>\n",
       "    <tr>\n",
       "      <th>4</th>\n",
       "      <td>0</td>\n",
       "      <td>8756</td>\n",
       "      <td>0.999502</td>\n",
       "    </tr>\n",
       "  </tbody>\n",
       "</table>\n",
       "</div>"
      ],
      "text/plain": [
       "   user_id  item_id    rating\n",
       "0        0     8929  0.986884\n",
       "1        0     8906  1.000481\n",
       "2        0     8838  0.992950\n",
       "3        0     8821  1.002184\n",
       "4        0     8756  0.999502"
      ]
     },
     "execution_count": 41,
     "metadata": {},
     "output_type": "execute_result"
    }
   ],
   "source": [
    "# train data\n",
    "users = torch.LongTensor(DF_test.user_id.values) #.cuda()\n",
    "items = torch.LongTensor(DF_test.item_id.values) #.cuda()\n",
    "\n",
    "y_hat = model(users, items)\n",
    "df_ready_2 = pd.DataFrame({'user_id': users, 'item_id': items, 'rating': y_hat.detach().numpy()})\n",
    "df_ready_2.head()"
   ]
  },
  {
   "cell_type": "markdown",
   "metadata": {
    "id": "rLCdKZP7PqpC"
   },
   "source": [
    "## 1.10.2.12. Recommend top 15 items"
   ]
  },
  {
   "cell_type": "code",
   "execution_count": 42,
   "metadata": {
    "id": "EqDhgbPwAwpi"
   },
   "outputs": [],
   "source": [
    "mf_output_1 = pd.DataFrame(columns=['user_id', 'item_id'])\n",
    "\n",
    "for id in df_ready_2['user_id'].unique():\n",
    "    test_items_100 = df_ready_2[df_ready_2['user_id'] == id]\n",
    "    test_items_15 = test_items_100.sort_values(by=['rating'], ascending=False)\n",
    "    requ_df_15 = test_items_15.iloc[:15, 0:2]\n",
    "    mf_output_1 = mf_output_1.append(requ_df_15, ignore_index=True)"
   ]
  },
  {
   "cell_type": "markdown",
   "metadata": {
    "id": "n0H7D1S3P5Ie"
   },
   "source": [
    "## 1.10.2.13. Creating output file"
   ]
  },
  {
   "cell_type": "code",
   "execution_count": 43,
   "metadata": {
    "id": "ndWll90vAwpi"
   },
   "outputs": [],
   "source": [
    "path_test = './output/MF_01.csv'\n",
    "mf_output_1.to_csv(path_test, index = False)"
   ]
  },
  {
   "cell_type": "markdown",
   "metadata": {
    "id": "5wOiwj3xiUxj"
   },
   "source": [
    "**Analysis** : The Matrix Factoriazation is a neural network recommender model which gives us the best items for each user as per their ratings before. I used this model to test our testing dataset into kaggle. The output which i got for this model is **0.5835**. This is lower then the ALS model which we saw above. But the advantage of this model is that its much more faster then the ALS model. \n",
    "\n",
    "---\n",
    "\n"
   ]
  },
  {
   "cell_type": "markdown",
   "metadata": {
    "id": "09JApBCQAwpj"
   },
   "source": [
    "## 1.10.3. MF with bias\n",
    "\n",
    "Bias terms portray the impact of one measurement on the yield. For illustration, within the Netflix challenge case, the predisposition of a motion picture would portray how well this motion picture is evaluated compared to the normal, overall motion pictures. This depends as it were on the motion picture (as a to begin with guess) and does not take into consideration the interaction between a client and the movie. Similarly, a user's predisposition compares to that user's propensity to deliver way better or more awful appraisals than the normal."
   ]
  },
  {
   "cell_type": "markdown",
   "metadata": {
    "id": "DLzOE9VrQHZU"
   },
   "source": [
    "## 1.10.3.1. Creating MF with bias model\n"
   ]
  },
  {
   "cell_type": "code",
   "execution_count": 44,
   "metadata": {
    "id": "WQmlG_QBAwpj"
   },
   "outputs": [],
   "source": [
    "class MF_bias(nn.Module):\n",
    "    def __init__(self, num_users, num_items, emb_size=100):\n",
    "        super(MF_bias, self).__init__()\n",
    "        self.user_emb = nn.Embedding(num_users, emb_size)\n",
    "        self.user_bias = nn.Embedding(num_users, 1)\n",
    "        self.item_emb = nn.Embedding(num_items, emb_size)\n",
    "        self.item_bias = nn.Embedding(num_items, 1)\n",
    "        self.user_emb.weight.data.uniform_(0,0.05)\n",
    "        self.item_emb.weight.data.uniform_(0,0.05)\n",
    "        self.user_bias.weight.data.uniform_(-0.01,0.01)\n",
    "        self.item_bias.weight.data.uniform_(-0.01,0.01)\n",
    "        \n",
    "    def forward(self, u, v):\n",
    "        U = self.user_emb(u)\n",
    "        V = self.item_emb(v)\n",
    "        b_u = self.user_bias(u).squeeze()\n",
    "        b_v = self.item_bias(v).squeeze()\n",
    "        return (U*V).sum(1) +  b_u  + b_v"
   ]
  },
  {
   "cell_type": "markdown",
   "metadata": {
    "id": "hIlgID-QQM3C"
   },
   "source": [
    "## 1.10.3.2. Hyper parameteres for MF bias function"
   ]
  },
  {
   "cell_type": "code",
   "execution_count": 45,
   "metadata": {
    "id": "qUakkfmIAwpk"
   },
   "outputs": [],
   "source": [
    "model = MF_bias(num_users, num_items, emb_size=100) #.cuda()"
   ]
  },
  {
   "cell_type": "markdown",
   "metadata": {
    "id": "bmPmxjrGQkrl"
   },
   "source": [
    "## 1.10.3.3. Fitting different learning rate for the model"
   ]
  },
  {
   "cell_type": "code",
   "execution_count": 46,
   "metadata": {
    "id": "SvTpKZW4Awpk",
    "outputId": "1041674d-894b-4f86-c990-972c5dba3fce"
   },
   "outputs": [
    {
     "name": "stdout",
     "output_type": "stream",
     "text": [
      "0.8793258666992188\n",
      "0.5769649147987366\n",
      "0.10016477108001709\n",
      "0.3425155580043793\n",
      "0.3264599144458771\n",
      "0.20916685461997986\n",
      "0.07769820839166641\n",
      "0.003020225092768669\n",
      "0.046466290950775146\n",
      "0.12348410487174988\n",
      "test loss 1.603 \n",
      "0.09515830874443054\n",
      "0.025319021195173264\n",
      "0.025946486741304398\n",
      "0.0025817425921559334\n",
      "0.07025378197431564\n",
      "0.02407132275402546\n",
      "0.001804725849069655\n",
      "0.025217659771442413\n",
      "0.03927719220519066\n",
      "0.03064480982720852\n",
      "test loss 0.755 \n",
      "0.009824960492551327\n",
      "0.00787195935845375\n",
      "0.006118763703852892\n",
      "0.004580494482070208\n",
      "0.003270139452069998\n",
      "0.0021970514208078384\n",
      "0.001365027972497046\n",
      "0.0007700566202402115\n",
      "0.0003980353649239987\n",
      "0.00022314478701446205\n",
      "test loss 0.941 \n",
      "0.00020785738888662308\n",
      "0.00018848846957553178\n",
      "0.0001707422488834709\n",
      "0.00015456107212230563\n",
      "0.00013986874546390027\n",
      "0.00012657760817091912\n",
      "0.00011459277448011562\n",
      "0.00010381528409197927\n",
      "9.414536907570437e-05\n",
      "8.548521145712584e-05\n",
      "test loss 0.937 \n"
     ]
    }
   ],
   "source": [
    "lr_r = [0.1, 0.05, 0.001, 0.0001]\n",
    "for lr_i in lr_r:\n",
    "    train_epocs(model, epochs=10, lr=lr_i)"
   ]
  },
  {
   "cell_type": "markdown",
   "metadata": {
    "id": "7LGyQnUnQr9l"
   },
   "source": [
    "## 1.10.3.4. Getting the recommendation for testing data"
   ]
  },
  {
   "cell_type": "code",
   "execution_count": 47,
   "metadata": {
    "id": "8UDRE78aAwpk",
    "outputId": "28ae4887-28df-4174-d0db-e55ef4821d2e"
   },
   "outputs": [
    {
     "data": {
      "text/html": [
       "<div>\n",
       "<style scoped>\n",
       "    .dataframe tbody tr th:only-of-type {\n",
       "        vertical-align: middle;\n",
       "    }\n",
       "\n",
       "    .dataframe tbody tr th {\n",
       "        vertical-align: top;\n",
       "    }\n",
       "\n",
       "    .dataframe thead th {\n",
       "        text-align: right;\n",
       "    }\n",
       "</style>\n",
       "<table border=\"1\" class=\"dataframe\">\n",
       "  <thead>\n",
       "    <tr style=\"text-align: right;\">\n",
       "      <th></th>\n",
       "      <th>user_id</th>\n",
       "      <th>item_id</th>\n",
       "      <th>rating</th>\n",
       "    </tr>\n",
       "  </thead>\n",
       "  <tbody>\n",
       "    <tr>\n",
       "      <th>0</th>\n",
       "      <td>0</td>\n",
       "      <td>8929</td>\n",
       "      <td>0.976713</td>\n",
       "    </tr>\n",
       "    <tr>\n",
       "      <th>1</th>\n",
       "      <td>0</td>\n",
       "      <td>8906</td>\n",
       "      <td>0.972287</td>\n",
       "    </tr>\n",
       "    <tr>\n",
       "      <th>2</th>\n",
       "      <td>0</td>\n",
       "      <td>8838</td>\n",
       "      <td>0.958976</td>\n",
       "    </tr>\n",
       "    <tr>\n",
       "      <th>3</th>\n",
       "      <td>0</td>\n",
       "      <td>8821</td>\n",
       "      <td>0.980331</td>\n",
       "    </tr>\n",
       "    <tr>\n",
       "      <th>4</th>\n",
       "      <td>0</td>\n",
       "      <td>8756</td>\n",
       "      <td>0.947928</td>\n",
       "    </tr>\n",
       "  </tbody>\n",
       "</table>\n",
       "</div>"
      ],
      "text/plain": [
       "   user_id  item_id    rating\n",
       "0        0     8929  0.976713\n",
       "1        0     8906  0.972287\n",
       "2        0     8838  0.958976\n",
       "3        0     8821  0.980331\n",
       "4        0     8756  0.947928"
      ]
     },
     "execution_count": 47,
     "metadata": {},
     "output_type": "execute_result"
    }
   ],
   "source": [
    "y_hat_mf_2 = model(users, items)\n",
    "mf_ready_2 = pd.DataFrame({'user_id': users, 'item_id': items, 'rating': y_hat_mf_2.detach().numpy()})\n",
    "mf_ready_2.head()"
   ]
  },
  {
   "cell_type": "markdown",
   "metadata": {
    "id": "FjJogbT6Q3GC"
   },
   "source": [
    "## 1.10.3.5. Recommend top 15 items"
   ]
  },
  {
   "cell_type": "code",
   "execution_count": 48,
   "metadata": {
    "id": "mNPCuqvaAwpk"
   },
   "outputs": [
    {
     "data": {
      "text/html": [
       "<div>\n",
       "<style scoped>\n",
       "    .dataframe tbody tr th:only-of-type {\n",
       "        vertical-align: middle;\n",
       "    }\n",
       "\n",
       "    .dataframe tbody tr th {\n",
       "        vertical-align: top;\n",
       "    }\n",
       "\n",
       "    .dataframe thead th {\n",
       "        text-align: right;\n",
       "    }\n",
       "</style>\n",
       "<table border=\"1\" class=\"dataframe\">\n",
       "  <thead>\n",
       "    <tr style=\"text-align: right;\">\n",
       "      <th></th>\n",
       "      <th>user_id</th>\n",
       "      <th>item_id</th>\n",
       "    </tr>\n",
       "  </thead>\n",
       "  <tbody>\n",
       "    <tr>\n",
       "      <th>0</th>\n",
       "      <td>0</td>\n",
       "      <td>1804</td>\n",
       "    </tr>\n",
       "    <tr>\n",
       "      <th>1</th>\n",
       "      <td>0</td>\n",
       "      <td>370</td>\n",
       "    </tr>\n",
       "    <tr>\n",
       "      <th>2</th>\n",
       "      <td>0</td>\n",
       "      <td>3177</td>\n",
       "    </tr>\n",
       "    <tr>\n",
       "      <th>3</th>\n",
       "      <td>0</td>\n",
       "      <td>691</td>\n",
       "    </tr>\n",
       "    <tr>\n",
       "      <th>4</th>\n",
       "      <td>0</td>\n",
       "      <td>6073</td>\n",
       "    </tr>\n",
       "  </tbody>\n",
       "</table>\n",
       "</div>"
      ],
      "text/plain": [
       "  user_id item_id\n",
       "0       0    1804\n",
       "1       0     370\n",
       "2       0    3177\n",
       "3       0     691\n",
       "4       0    6073"
      ]
     },
     "execution_count": 48,
     "metadata": {},
     "output_type": "execute_result"
    }
   ],
   "source": [
    "mf_output_2 = pd.DataFrame(columns=['user_id', 'item_id'])\n",
    "\n",
    "for id in mf_ready_2['user_id'].unique():\n",
    "    test_items_100 = mf_ready_2[mf_ready_2['user_id'] == id]\n",
    "    test_items_15 = test_items_100.sort_values(by=['rating'], ascending=False)\n",
    "    requ_df_15 = test_items_15.iloc[:15, 0:2]\n",
    "    mf_output_2 = mf_output_2.append(requ_df_15, ignore_index=True)\n",
    "\n",
    "mf_output_1.head()"
   ]
  },
  {
   "cell_type": "markdown",
   "metadata": {
    "id": "CV5-FSmYRABG"
   },
   "source": [
    "## 1.10.3.6. Creating output file"
   ]
  },
  {
   "cell_type": "code",
   "execution_count": 49,
   "metadata": {
    "id": "6huR0B0XAwpl"
   },
   "outputs": [],
   "source": [
    "path_test = './output/MF_02.csv'\n",
    "mf_output_2.to_csv(path_test, index = False)"
   ]
  },
  {
   "cell_type": "markdown",
   "metadata": {
    "id": "D7bHrvyEkE7u"
   },
   "source": [
    "**Analysis** Matrix Factorization with bias is similar to the matrix factorization model which we used earlier. The only difference in this is that it calculates the bias term for each user to give more prefered recommendation for each users. It is used to help the outlier in the ratings. After uploading this model in Kaggle i was able to see that it gived better score then normal matrix factorization which is **0.6459**. So we can say that this model is better the the MF model without bias. "
   ]
  },
  {
   "cell_type": "markdown",
   "metadata": {
    "id": "SDwhOGw2Awpl"
   },
   "source": [
    "## 1.10.4. Neural Network Model\n",
    "\n",
    "This is a Deep leaning neural network model which is different the the matrix factorization. It has embedding which are different in size then the matrix multiplication. "
   ]
  },
  {
   "cell_type": "markdown",
   "metadata": {
    "id": "sY5xK6_zRXn2"
   },
   "source": [
    "## 1.10.3.1. Creating NN with bias model"
   ]
  },
  {
   "cell_type": "code",
   "execution_count": 50,
   "metadata": {
    "id": "fmh40_PUAwpl"
   },
   "outputs": [],
   "source": [
    "class CollabFNet(nn.Module):\n",
    "    def __init__(self, num_users, num_items, emb_size=100, n_hidden=10):\n",
    "        super(CollabFNet, self).__init__()\n",
    "        self.user_emb = nn.Embedding(num_users, emb_size)\n",
    "        self.item_emb = nn.Embedding(num_items, emb_size)\n",
    "        self.lin1 = nn.Linear(emb_size*2, n_hidden)\n",
    "        self.lin2 = nn.Linear(n_hidden, 1)\n",
    "        self.drop1 = nn.Dropout(0.1)\n",
    "        \n",
    "    def forward(self, u, v):\n",
    "        U = self.user_emb(u)\n",
    "        V = self.item_emb(v)\n",
    "        x = F.relu(torch.cat([U, V], dim=1))\n",
    "        x = self.drop1(x)\n",
    "        x = F.relu(self.lin1(x))\n",
    "        x = self.lin2(x)\n",
    "        return x"
   ]
  },
  {
   "cell_type": "markdown",
   "metadata": {
    "id": "wKyQPidiRPLN"
   },
   "source": [
    "## 1.10.4.2. Hyper parameteres for MF bias function"
   ]
  },
  {
   "cell_type": "code",
   "execution_count": 51,
   "metadata": {
    "id": "QClnqwUSAwpl"
   },
   "outputs": [],
   "source": [
    "model = CollabFNet(num_users, num_items, emb_size=100) #.cuda()"
   ]
  },
  {
   "cell_type": "markdown",
   "metadata": {
    "id": "6jmP1cNqRczx"
   },
   "source": [
    "## 1.10.4.3. Fitting different learning rate for the model"
   ]
  },
  {
   "cell_type": "code",
   "execution_count": 52,
   "metadata": {
    "id": "rdzoKm4gAwpm",
    "outputId": "4303c378-2aac-402f-9e8c-32bd6b1f8ee3"
   },
   "outputs": [
    {
     "name": "stdout",
     "output_type": "stream",
     "text": [
      "0.9687161445617676\n",
      "9.560593605041504\n",
      "0.04830985143780708\n",
      "0.7815855145454407\n",
      "1.0449954271316528\n",
      "1.0501559972763062\n",
      "1.0332287549972534\n",
      "1.0053261518478394\n",
      "0.9692410230636597\n",
      "0.9271287322044373\n",
      "0.8806933760643005\n",
      "0.8313047289848328\n",
      "0.7800779938697815\n",
      "0.7279270887374878\n",
      "0.6756048798561096\n",
      "0.6237350702285767\n",
      "0.5728316903114319\n",
      "0.5233177542686462\n",
      "0.4755372703075409\n",
      "0.4297671318054199\n",
      "test loss 0.146 \n",
      "0.3862251043319702\n",
      "0.3738956153392792\n",
      "0.36177176237106323\n",
      "0.3498566746711731\n",
      "0.3381538689136505\n",
      "0.32666629552841187\n",
      "0.3153967559337616\n",
      "0.304347962141037\n",
      "0.2935222089290619\n",
      "0.28292182087898254\n",
      "0.2725480794906616\n",
      "0.2623017728328705\n",
      "0.25085487961769104\n",
      "0.23540255427360535\n",
      "0.21503053605556488\n",
      "0.19018147885799408\n",
      "0.16110102832317352\n",
      "0.12851658463478088\n",
      "0.09385314583778381\n",
      "0.05958136171102524\n",
      "test loss 0.662 \n",
      "0.029666367918252945\n",
      "0.017802827060222626\n",
      "0.009232982993125916\n",
      "0.00454872939735651\n",
      "0.003712703939527273\n",
      "0.005500602535903454\n",
      "0.007743538357317448\n",
      "0.008581019937992096\n",
      "0.007813002914190292\n",
      "0.006138589233160019\n",
      "0.004425957333296537\n",
      "0.003209320828318596\n",
      "0.0027536842972040176\n",
      "0.0029266285710036755\n",
      "0.00346723897382617\n",
      "0.004005266819149256\n",
      "0.004256618209183216\n",
      "0.004085116554051638\n",
      "0.0035682315938174725\n",
      "0.0028440614696592093\n",
      "test loss 0.908 \n",
      "0.0021998321171849966\n",
      "0.0020102958660572767\n",
      "0.0019997076597064734\n",
      "0.0020033663604408503\n",
      "0.0019745018798857927\n",
      "0.0019208178855478764\n",
      "0.001884904457256198\n",
      "0.0018654995365068316\n",
      "0.0018710204167291522\n",
      "0.0018592400010675192\n",
      "0.0018352632177993655\n",
      "0.0017961427802219987\n",
      "0.0017549007898196578\n",
      "0.0017369388369843364\n",
      "0.0017157505499199033\n",
      "0.001707807881757617\n",
      "0.001688050921075046\n",
      "0.0016749724745750427\n",
      "0.0016440966865047812\n",
      "0.0016349155921489\n",
      "test loss 0.935 \n"
     ]
    }
   ],
   "source": [
    "lr_r = [0.05, 0.01, 0.005, 0.001]\n",
    "for lr_i in lr_r:\n",
    "    train_epocs(model, epochs=20, lr=lr_i, wd=1e-6, unsqueeze=True)"
   ]
  },
  {
   "cell_type": "markdown",
   "metadata": {
    "id": "X9LZja36Rej3"
   },
   "source": [
    "## 1.10.4.4. Getting the recommendation for testing data"
   ]
  },
  {
   "cell_type": "code",
   "execution_count": 53,
   "metadata": {
    "id": "I67kbkTQAwpm",
    "outputId": "a8e432da-f6de-496e-ad2d-f616b8a5926a"
   },
   "outputs": [
    {
     "data": {
      "text/html": [
       "<div>\n",
       "<style scoped>\n",
       "    .dataframe tbody tr th:only-of-type {\n",
       "        vertical-align: middle;\n",
       "    }\n",
       "\n",
       "    .dataframe tbody tr th {\n",
       "        vertical-align: top;\n",
       "    }\n",
       "\n",
       "    .dataframe thead th {\n",
       "        text-align: right;\n",
       "    }\n",
       "</style>\n",
       "<table border=\"1\" class=\"dataframe\">\n",
       "  <thead>\n",
       "    <tr style=\"text-align: right;\">\n",
       "      <th></th>\n",
       "      <th>user_id</th>\n",
       "      <th>item_id</th>\n",
       "      <th>rating</th>\n",
       "    </tr>\n",
       "  </thead>\n",
       "  <tbody>\n",
       "    <tr>\n",
       "      <th>0</th>\n",
       "      <td>0</td>\n",
       "      <td>8929</td>\n",
       "      <td>1.025658</td>\n",
       "    </tr>\n",
       "    <tr>\n",
       "      <th>1</th>\n",
       "      <td>0</td>\n",
       "      <td>8906</td>\n",
       "      <td>0.979756</td>\n",
       "    </tr>\n",
       "    <tr>\n",
       "      <th>2</th>\n",
       "      <td>0</td>\n",
       "      <td>8838</td>\n",
       "      <td>0.980589</td>\n",
       "    </tr>\n",
       "    <tr>\n",
       "      <th>3</th>\n",
       "      <td>0</td>\n",
       "      <td>8821</td>\n",
       "      <td>0.989555</td>\n",
       "    </tr>\n",
       "    <tr>\n",
       "      <th>4</th>\n",
       "      <td>0</td>\n",
       "      <td>8756</td>\n",
       "      <td>1.005151</td>\n",
       "    </tr>\n",
       "  </tbody>\n",
       "</table>\n",
       "</div>"
      ],
      "text/plain": [
       "   user_id  item_id    rating\n",
       "0        0     8929  1.025658\n",
       "1        0     8906  0.979756\n",
       "2        0     8838  0.980589\n",
       "3        0     8821  0.989555\n",
       "4        0     8756  1.005151"
      ]
     },
     "execution_count": 53,
     "metadata": {},
     "output_type": "execute_result"
    }
   ],
   "source": [
    "y_hat_nn_1 = model(users, items)\n",
    "nn_ready_2 = pd.DataFrame({'user_id': users, 'item_id': items, 'rating': np.squeeze(y_hat_nn_1.detach().numpy())})\n",
    "nn_ready_2.head()"
   ]
  },
  {
   "cell_type": "markdown",
   "metadata": {
    "id": "LiR9TxbgRkRw"
   },
   "source": [
    "## 1.10.4.5. Recommend top 15 items"
   ]
  },
  {
   "cell_type": "code",
   "execution_count": 54,
   "metadata": {
    "id": "Nnnl8YX8Awpm"
   },
   "outputs": [],
   "source": [
    "nn_output_2 = pd.DataFrame(columns=['user_id', 'item_id'])\n",
    "\n",
    "for id in nn_ready_2['user_id'].unique():\n",
    "    test_items_100 = nn_ready_2[nn_ready_2['user_id'] == id]\n",
    "    test_items_15 = test_items_100.sort_values(by=['rating'], ascending=False)\n",
    "    requ_df_15 = test_items_15.iloc[:15, 0:2]\n",
    "    nn_output_2 = nn_output_2.append(requ_df_15, ignore_index=True)"
   ]
  },
  {
   "cell_type": "markdown",
   "metadata": {
    "id": "vhl2SRkgRpFG"
   },
   "source": [
    "## 1.10.4.6. Creating output file"
   ]
  },
  {
   "cell_type": "code",
   "execution_count": 55,
   "metadata": {
    "id": "0DVE4Ne1Awpm"
   },
   "outputs": [],
   "source": [
    "path_test = './output/NN_02.csv'\n",
    "nn_output_2.to_csv(path_test, index = False)"
   ]
  },
  {
   "cell_type": "markdown",
   "metadata": {
    "id": "rIsOl0Egm7Y5"
   },
   "source": [
    "**Analysis** The Neural network model has given us the least kaggle score in which is 0.05803. \n",
    "\n",
    "**Conclusion:** From all the above models we were able to see that models has differnt embedding and calculation ways to find the recommendation for users. Till now, I got the best score from the ALS model which is 0.22181. So I prefered to use that as my best model for this dataset. This happened because ALS has more complex calculation to understand the prediction of each user much better then other recommendation algorithms. \n"
   ]
  },
  {
   "cell_type": "markdown",
   "metadata": {
    "id": "kzGQZSzFaexL"
   },
   "source": [
    "# 2. **Task 2: Node Clustering in Graphs**\n",
    "\n",
    "A Graph may be a collection of hubs (vertices) at the side distinguished sets of hubs (called edges, joins, etc). In NetworkX, hubs can be any hashable question e.g., a content string, an picture, an XML question, another Chart, a customized hub protest, etc."
   ]
  },
  {
   "cell_type": "markdown",
   "metadata": {
    "id": "ifSdtTzoUBbq"
   },
   "source": [
    "## 2.1. Import Libraries"
   ]
  },
  {
   "cell_type": "code",
   "execution_count": 56,
   "metadata": {
    "id": "Pvfd2vDfAwpm",
    "outputId": "860377ab-1ebe-4fb2-b738-0508efdf2f78"
   },
   "outputs": [
    {
     "name": "stderr",
     "output_type": "stream",
     "text": [
      "[nltk_data] Downloading package punkt to\n",
      "[nltk_data]     /Users/prajyotnagrale/nltk_data...\n",
      "[nltk_data]   Package punkt is already up-to-date!\n"
     ]
    }
   ],
   "source": [
    "# Import pickle Package\n",
    "import pickle\n",
    "\n",
    "import nltk\n",
    "nltk.download('punkt')\n",
    "\n",
    "import matplotlib.pyplot as plt\n",
    "import matplotlib.patches as mpatches\n",
    "%matplotlib inline\n",
    "\n",
    "import random\n",
    "import networkx as nx\n",
    "from IPython.display import Image\n",
    "from nltk.tokenize import word_tokenize\n",
    "\n",
    "from sklearn.cluster import KMeans\n",
    "\n",
    "import seaborn as sns\n",
    "from node2vec import Node2Vec\n",
    "\n",
    "sns.set_style('whitegrid')\n",
    "\n",
    "import scipy as sp\n",
    "\n",
    "import random\n",
    "\n",
    "from sklearn.metrics.cluster import normalized_mutual_info_score\n",
    "\n",
    "import statistics"
   ]
  },
  {
   "cell_type": "markdown",
   "metadata": {
    "id": "a1t2yflDULzH"
   },
   "source": [
    "## 2.2. Creating dataframe for adjedges file"
   ]
  },
  {
   "cell_type": "code",
   "execution_count": 57,
   "metadata": {
    "colab": {
     "base_uri": "https://localhost:8080/",
     "height": 376
    },
    "id": "Z3Jd43vAajP1",
    "outputId": "2ff2c6db-1f37-49a4-914c-a9c3e9645ed8"
   },
   "outputs": [
    {
     "name": "stdout",
     "output_type": "stream",
     "text": [
      "(18720, 2)\n"
     ]
    },
    {
     "data": {
      "text/html": [
       "<div>\n",
       "<style scoped>\n",
       "    .dataframe tbody tr th:only-of-type {\n",
       "        vertical-align: middle;\n",
       "    }\n",
       "\n",
       "    .dataframe tbody tr th {\n",
       "        vertical-align: top;\n",
       "    }\n",
       "\n",
       "    .dataframe thead th {\n",
       "        text-align: right;\n",
       "    }\n",
       "</style>\n",
       "<table border=\"1\" class=\"dataframe\">\n",
       "  <thead>\n",
       "    <tr style=\"text-align: right;\">\n",
       "      <th></th>\n",
       "      <th>node_id</th>\n",
       "      <th>neighbor_node</th>\n",
       "    </tr>\n",
       "  </thead>\n",
       "  <tbody>\n",
       "    <tr>\n",
       "      <th>0</th>\n",
       "      <td>12828558</td>\n",
       "      <td>[]</td>\n",
       "    </tr>\n",
       "    <tr>\n",
       "      <th>1</th>\n",
       "      <td>66779408</td>\n",
       "      <td>[]</td>\n",
       "    </tr>\n",
       "    <tr>\n",
       "      <th>2</th>\n",
       "      <td>38902949</td>\n",
       "      <td>[38998399]</td>\n",
       "    </tr>\n",
       "    <tr>\n",
       "      <th>3</th>\n",
       "      <td>33450563</td>\n",
       "      <td>[26547200]</td>\n",
       "    </tr>\n",
       "    <tr>\n",
       "      <th>4</th>\n",
       "      <td>57470294</td>\n",
       "      <td>[20968604]</td>\n",
       "    </tr>\n",
       "    <tr>\n",
       "      <th>5</th>\n",
       "      <td>12016981</td>\n",
       "      <td>[]</td>\n",
       "    </tr>\n",
       "    <tr>\n",
       "      <th>6</th>\n",
       "      <td>59453341</td>\n",
       "      <td>[]</td>\n",
       "    </tr>\n",
       "    <tr>\n",
       "      <th>7</th>\n",
       "      <td>54791317</td>\n",
       "      <td>[9564967, 14589786]</td>\n",
       "    </tr>\n",
       "    <tr>\n",
       "      <th>8</th>\n",
       "      <td>38124547</td>\n",
       "      <td>[]</td>\n",
       "    </tr>\n",
       "    <tr>\n",
       "      <th>9</th>\n",
       "      <td>44569330</td>\n",
       "      <td>[]</td>\n",
       "    </tr>\n",
       "  </tbody>\n",
       "</table>\n",
       "</div>"
      ],
      "text/plain": [
       "    node_id        neighbor_node\n",
       "0  12828558                   []\n",
       "1  66779408                   []\n",
       "2  38902949           [38998399]\n",
       "3  33450563           [26547200]\n",
       "4  57470294           [20968604]\n",
       "5  12016981                   []\n",
       "6  59453341                   []\n",
       "7  54791317  [9564967, 14589786]\n",
       "8  38124547                   []\n",
       "9  44569330                   []"
      ]
     },
     "execution_count": 57,
     "metadata": {},
     "output_type": "execute_result"
    }
   ],
   "source": [
    "# adjedges\n",
    "node_id = []\n",
    "neighbor_node = []\n",
    "with open (\"./A2 graph data/adjedges.txt\", mode='r') as f:\n",
    "  a = pd.DataFrame(f)\n",
    "  for i in a[0]:\n",
    "    b = word_tokenize(i)\n",
    "    node_id.append(int(b[0]))\n",
    "    nei_node = list()\n",
    "    \n",
    "    for j in b[1:]:\n",
    "      \n",
    "      if j.isnumeric():\n",
    "        nei_node.append(int(j))\n",
    "\n",
    "    neighbor_node.append(nei_node)\n",
    "\n",
    "df_adjedges = pd.DataFrame({'node_id': node_id, 'neighbor_node': neighbor_node})\n",
    "print(df_adjedges.shape)\n",
    "df_adjedges.head(10)"
   ]
  },
  {
   "cell_type": "markdown",
   "metadata": {
    "id": "maX0Ca0iUZJo"
   },
   "source": [
    "## 2.3. Creating dataframe for docs file"
   ]
  },
  {
   "cell_type": "code",
   "execution_count": 58,
   "metadata": {
    "colab": {
     "base_uri": "https://localhost:8080/",
     "height": 221
    },
    "id": "m1IfG0OwauA3",
    "outputId": "93579b19-d14c-418b-e41f-349126b516ba"
   },
   "outputs": [
    {
     "name": "stdout",
     "output_type": "stream",
     "text": [
      "(18720, 2)\n"
     ]
    },
    {
     "data": {
      "text/html": [
       "<div>\n",
       "<style scoped>\n",
       "    .dataframe tbody tr th:only-of-type {\n",
       "        vertical-align: middle;\n",
       "    }\n",
       "\n",
       "    .dataframe tbody tr th {\n",
       "        vertical-align: top;\n",
       "    }\n",
       "\n",
       "    .dataframe thead th {\n",
       "        text-align: right;\n",
       "    }\n",
       "</style>\n",
       "<table border=\"1\" class=\"dataframe\">\n",
       "  <thead>\n",
       "    <tr style=\"text-align: right;\">\n",
       "      <th></th>\n",
       "      <th>node_id</th>\n",
       "      <th>title</th>\n",
       "    </tr>\n",
       "  </thead>\n",
       "  <tbody>\n",
       "    <tr>\n",
       "      <th>0</th>\n",
       "      <td>12828558</td>\n",
       "      <td>Assessing Local Institutional Capacity , Data ...</td>\n",
       "    </tr>\n",
       "    <tr>\n",
       "      <th>1</th>\n",
       "      <td>66779408</td>\n",
       "      <td>THE PROSPECTS FOR INTERNET TELEPHONY IN EUROPE...</td>\n",
       "    </tr>\n",
       "    <tr>\n",
       "      <th>2</th>\n",
       "      <td>38902949</td>\n",
       "      <td>Economic Shocks , Safety Nets , and Fiscal Con...</td>\n",
       "    </tr>\n",
       "    <tr>\n",
       "      <th>3</th>\n",
       "      <td>33450563</td>\n",
       "      <td>Reform , Growth , and Poverty in Vietnam</td>\n",
       "    </tr>\n",
       "    <tr>\n",
       "      <th>4</th>\n",
       "      <td>57470294</td>\n",
       "      <td>Households and Economic Growth in Latin Americ...</td>\n",
       "    </tr>\n",
       "  </tbody>\n",
       "</table>\n",
       "</div>"
      ],
      "text/plain": [
       "    node_id                                              title\n",
       "0  12828558  Assessing Local Institutional Capacity , Data ...\n",
       "1  66779408  THE PROSPECTS FOR INTERNET TELEPHONY IN EUROPE...\n",
       "2  38902949  Economic Shocks , Safety Nets , and Fiscal Con...\n",
       "3  33450563           Reform , Growth , and Poverty in Vietnam\n",
       "4  57470294  Households and Economic Growth in Latin Americ..."
      ]
     },
     "execution_count": 58,
     "metadata": {},
     "output_type": "execute_result"
    }
   ],
   "source": [
    "# docs\n",
    "node_id = []\n",
    "title = []\n",
    "with open('./A2 graph data/docs.txt', mode = 'r') as f:\n",
    "  a = pd.DataFrame(f)\n",
    "  for i in a[0]:\n",
    "    b = word_tokenize(i)\n",
    "    node_id.append(int(b[0]))\n",
    "    title.append(' '.join(b[1:]))\n",
    "\n",
    "df_docs = pd.DataFrame({'node_id': node_id, 'title': title})\n",
    "print(df_docs.shape)\n",
    "df_docs.head()"
   ]
  },
  {
   "cell_type": "markdown",
   "metadata": {
    "id": "H1fn7yClUdi3"
   },
   "source": [
    "## 2.4. Creating dataframe for labels file"
   ]
  },
  {
   "cell_type": "code",
   "execution_count": 59,
   "metadata": {
    "colab": {
     "base_uri": "https://localhost:8080/",
     "height": 221
    },
    "id": "liFVY7DZau-9",
    "outputId": "8ff68a5f-cae0-4aed-de73-333f3d79fdb4"
   },
   "outputs": [
    {
     "name": "stdout",
     "output_type": "stream",
     "text": [
      "(18720, 2)\n"
     ]
    },
    {
     "data": {
      "text/html": [
       "<div>\n",
       "<style scoped>\n",
       "    .dataframe tbody tr th:only-of-type {\n",
       "        vertical-align: middle;\n",
       "    }\n",
       "\n",
       "    .dataframe tbody tr th {\n",
       "        vertical-align: top;\n",
       "    }\n",
       "\n",
       "    .dataframe thead th {\n",
       "        text-align: right;\n",
       "    }\n",
       "</style>\n",
       "<table border=\"1\" class=\"dataframe\">\n",
       "  <thead>\n",
       "    <tr style=\"text-align: right;\">\n",
       "      <th></th>\n",
       "      <th>node_id</th>\n",
       "      <th>label</th>\n",
       "    </tr>\n",
       "  </thead>\n",
       "  <tbody>\n",
       "    <tr>\n",
       "      <th>0</th>\n",
       "      <td>12828558</td>\n",
       "      <td>0</td>\n",
       "    </tr>\n",
       "    <tr>\n",
       "      <th>1</th>\n",
       "      <td>66779408</td>\n",
       "      <td>0</td>\n",
       "    </tr>\n",
       "    <tr>\n",
       "      <th>2</th>\n",
       "      <td>38902949</td>\n",
       "      <td>0</td>\n",
       "    </tr>\n",
       "    <tr>\n",
       "      <th>3</th>\n",
       "      <td>33450563</td>\n",
       "      <td>0</td>\n",
       "    </tr>\n",
       "    <tr>\n",
       "      <th>4</th>\n",
       "      <td>57470294</td>\n",
       "      <td>0</td>\n",
       "    </tr>\n",
       "  </tbody>\n",
       "</table>\n",
       "</div>"
      ],
      "text/plain": [
       "    node_id  label\n",
       "0  12828558      0\n",
       "1  66779408      0\n",
       "2  38902949      0\n",
       "3  33450563      0\n",
       "4  57470294      0"
      ]
     },
     "execution_count": 59,
     "metadata": {},
     "output_type": "execute_result"
    }
   ],
   "source": [
    "#label\n",
    "node_id = []\n",
    "label = []\n",
    "with open('./A2 graph data/labels.txt', mode = 'r') as f:\n",
    "  a = pd.DataFrame(f)\n",
    "  for i in a[0]:\n",
    "    b = word_tokenize(i)\n",
    "    node_id.append(int(b[0]))\n",
    "    label.append(int(b[1]))\n",
    "\n",
    "df_label = pd.DataFrame({'node_id': node_id, 'label': label})\n",
    "print(df_docs.shape)\n",
    "df_label.head()"
   ]
  },
  {
   "cell_type": "markdown",
   "metadata": {
    "id": "ICxTHJnxUiEu"
   },
   "source": [
    "## 2.5. Merging all dataframe"
   ]
  },
  {
   "cell_type": "code",
   "execution_count": 60,
   "metadata": {
    "colab": {
     "base_uri": "https://localhost:8080/",
     "height": 204
    },
    "id": "ZPi-CW7iaxUO",
    "outputId": "af3d874f-7a9e-4208-de0b-4577264fdf27"
   },
   "outputs": [
    {
     "data": {
      "text/html": [
       "<div>\n",
       "<style scoped>\n",
       "    .dataframe tbody tr th:only-of-type {\n",
       "        vertical-align: middle;\n",
       "    }\n",
       "\n",
       "    .dataframe tbody tr th {\n",
       "        vertical-align: top;\n",
       "    }\n",
       "\n",
       "    .dataframe thead th {\n",
       "        text-align: right;\n",
       "    }\n",
       "</style>\n",
       "<table border=\"1\" class=\"dataframe\">\n",
       "  <thead>\n",
       "    <tr style=\"text-align: right;\">\n",
       "      <th></th>\n",
       "      <th>node_id</th>\n",
       "      <th>neighbor_node</th>\n",
       "      <th>title</th>\n",
       "      <th>label</th>\n",
       "    </tr>\n",
       "  </thead>\n",
       "  <tbody>\n",
       "    <tr>\n",
       "      <th>0</th>\n",
       "      <td>12828558</td>\n",
       "      <td>[]</td>\n",
       "      <td>Assessing Local Institutional Capacity , Data ...</td>\n",
       "      <td>0</td>\n",
       "    </tr>\n",
       "    <tr>\n",
       "      <th>1</th>\n",
       "      <td>66779408</td>\n",
       "      <td>[]</td>\n",
       "      <td>THE PROSPECTS FOR INTERNET TELEPHONY IN EUROPE...</td>\n",
       "      <td>0</td>\n",
       "    </tr>\n",
       "    <tr>\n",
       "      <th>2</th>\n",
       "      <td>38902949</td>\n",
       "      <td>[38998399]</td>\n",
       "      <td>Economic Shocks , Safety Nets , and Fiscal Con...</td>\n",
       "      <td>0</td>\n",
       "    </tr>\n",
       "    <tr>\n",
       "      <th>3</th>\n",
       "      <td>33450563</td>\n",
       "      <td>[26547200]</td>\n",
       "      <td>Reform , Growth , and Poverty in Vietnam</td>\n",
       "      <td>0</td>\n",
       "    </tr>\n",
       "    <tr>\n",
       "      <th>4</th>\n",
       "      <td>57470294</td>\n",
       "      <td>[20968604]</td>\n",
       "      <td>Households and Economic Growth in Latin Americ...</td>\n",
       "      <td>0</td>\n",
       "    </tr>\n",
       "  </tbody>\n",
       "</table>\n",
       "</div>"
      ],
      "text/plain": [
       "    node_id neighbor_node                                              title  \\\n",
       "0  12828558            []  Assessing Local Institutional Capacity , Data ...   \n",
       "1  66779408            []  THE PROSPECTS FOR INTERNET TELEPHONY IN EUROPE...   \n",
       "2  38902949    [38998399]  Economic Shocks , Safety Nets , and Fiscal Con...   \n",
       "3  33450563    [26547200]           Reform , Growth , and Poverty in Vietnam   \n",
       "4  57470294    [20968604]  Households and Economic Growth in Latin Americ...   \n",
       "\n",
       "   label  \n",
       "0      0  \n",
       "1      0  \n",
       "2      0  \n",
       "3      0  \n",
       "4      0  "
      ]
     },
     "execution_count": 60,
     "metadata": {},
     "output_type": "execute_result"
    }
   ],
   "source": [
    "df_adj_docs = df_adjedges.merge(df_docs, on='node_id')\n",
    "df_nodes = df_adj_docs.merge(df_label, on='node_id')\n",
    "df_nodes.head()"
   ]
  },
  {
   "cell_type": "markdown",
   "metadata": {
    "id": "i5AK6gReWdhf"
   },
   "source": [
    "## 2.6. Assigning Graphs"
   ]
  },
  {
   "cell_type": "code",
   "execution_count": 61,
   "metadata": {
    "id": "-Qre0u2fWeXX"
   },
   "outputs": [],
   "source": [
    "G_labels = nx.Graph()\n",
    "G_all_nodes_edge = nx.Graph()\n",
    "G_all_interconnected_edge = nx.Graph()"
   ]
  },
  {
   "cell_type": "markdown",
   "metadata": {
    "id": "1mfae55MUoab"
   },
   "source": [
    "## 2.7. Creating Nodes"
   ]
  },
  {
   "cell_type": "code",
   "execution_count": 62,
   "metadata": {
    "id": "MnAx8fEfayw6"
   },
   "outputs": [],
   "source": [
    "for i, j in enumerate(df_nodes['node_id']):\n",
    "    G_labels.add_node(j, title=df_nodes['title'][i], label=df_nodes['label'][i])\n",
    "    G_all_nodes_edge.add_node(j, title=df_nodes['title'][i], label=df_nodes['label'][i])"
   ]
  },
  {
   "cell_type": "markdown",
   "metadata": {
    "id": "BidIXlwsUuK1"
   },
   "source": [
    "## 2.8. Creating Edges"
   ]
  },
  {
   "cell_type": "code",
   "execution_count": 63,
   "metadata": {
    "id": "2s81xDFvazmb"
   },
   "outputs": [],
   "source": [
    "for i, j in enumerate(df_nodes['node_id']):\n",
    "      for k in df_nodes['neighbor_node'][i]:\n",
    "        if str(k).isdigit() and k in df_nodes['node_id'].values:\n",
    "            G_labels.add_edge(j, k)\n",
    "            G_all_interconnected_edge.add_edge(j, k)\n",
    "        if str(k).isdigit():\n",
    "            G_all_nodes_edge.add_edge(j, k)"
   ]
  },
  {
   "cell_type": "code",
   "execution_count": 64,
   "metadata": {
    "colab": {
     "base_uri": "https://localhost:8080/",
     "height": 232
    },
    "id": "gtY8dqGAU9QT",
    "outputId": "cdd96198-aa70-4311-a09c-ccdc33201a03"
   },
   "outputs": [
    {
     "name": "stdout",
     "output_type": "stream",
     "text": [
      "18720\n",
      "9618\n",
      "6565\n",
      "9618\n",
      "36928\n",
      "54183\n"
     ]
    }
   ],
   "source": [
    "print(len(G_labels.nodes()))\n",
    "print(len(G_labels.edges()))\n",
    "print(len(G_all_interconnected_edge.nodes()))\n",
    "print(len(G_all_interconnected_edge.edges()))\n",
    "print(len(G_all_nodes_edge.nodes()))\n",
    "print(len(G_all_nodes_edge.edges()))"
   ]
  },
  {
   "cell_type": "markdown",
   "metadata": {
    "id": "3yCNefGpU4Zn"
   },
   "source": [
    "## 2.9. Getting graph for all connected nodes"
   ]
  },
  {
   "cell_type": "code",
   "execution_count": 65,
   "metadata": {
    "id": "0dHuUMMLAwpn",
    "outputId": "071a2e0a-6ed9-408c-b6f5-ca1fc8bf3d85"
   },
   "outputs": [
    {
     "data": {
      "image/png": "[encoded data removed]",
      "text/plain": [
       "<Figure size 864x576 with 1 Axes>"
      ]
     },
     "metadata": {},
     "output_type": "display_data"
    }
   ],
   "source": [
    "with sns.axes_style('white'):\n",
    "    fig = plt.subplots(1, figsize=(12,8))\n",
    "    nx.draw_networkx(G_all_interconnected_edge, node_size =5, edge_color='#a4a4a4', with_labels=False, font_color='#cacaca')\n",
    "    plt.axis('off')"
   ]
  },
  {
   "cell_type": "markdown",
   "metadata": {
    "id": "OJNPMaOR0qsj"
   },
   "source": [
    "## 2.10. Embedding:\n",
    "\n",
    "One of the confinements of charts remains the nonattendance of vector highlights. A bit like in NLP, we confront structured data. But rather like in NLP, we can learn an implanting of the chart! There are a few levels of inserting in a chart: Implanting chart components (hubs, edges, feature) (Node2Vec). Inserting sub-parts of a chart or an entirety chart (Graph2Vec) After learning an inserting, it can be utilized as highlights for a few errands: classification, recommender frameworks\n",
    "\n",
    "In case you've got a few time, check out the total article on the inserting process by the creator of the node2vec library. The embeddings are learned within the same way as word2vec’s skip-gram embeddings are learned, employing a skip-gram show. The address is, how can we create the input corpus for Node2Vec? The data are much more complex, i.e. (un)directed, (un)weighted, (a)cyclic… To create the corpus, we utilize arbitrary strolls examining procedure. Ready to indicate the number of strolls to run and the length of the strolls."
   ]
  },
  {
   "cell_type": "markdown",
   "metadata": {
    "id": "gl02JKp8VWFp"
   },
   "source": [
    "## 2.10.1. Node2Vec: For all edges and nodes which has labels"
   ]
  },
  {
   "cell_type": "code",
   "execution_count": 66,
   "metadata": {
    "colab": {
     "base_uri": "https://localhost:8080/",
     "height": 66,
     "referenced_widgets": [
      "b75020a99ef5429cabe4e2697170accd",
      "02d23681089b485bb538cdd64d7f2746",
      "352413a34b8c4759b0d94f87fcd390bd",
      "274db5db71714da180004deee0ebab62",
      "873ae819cb9c4923b34fcbd7610733da",
      "a210d953a30940d4a775e1f0ee10dc82",
      "d8a141f283af4d5dbd4c9f6a811b3f89",
      "bd89d903d59e405fbf70ba6927c5c919",
      "078daf4c02b2408b88d8268ca33c3f06"
     ]
    },
    "id": "5PICMX3FbARR",
    "outputId": "0dfa19dd-a085-4648-cf99-d357f02d6145"
   },
   "outputs": [
    {
     "data": {
      "application/vnd.jupyter.widget-view+json": {
       "model_id": "438a215116454f97b9328cb5438eb2f3",
       "version_major": 2,
       "version_minor": 0
      },
      "text/plain": [
       "Computing transition probabilities:   0%|          | 0/18720 [00:00<?, ?it/s]"
      ]
     },
     "metadata": {},
     "output_type": "display_data"
    },
    {
     "name": "stdout",
     "output_type": "stream",
     "text": [
      "CPU times: user 4min 14s, sys: 55.1 s, total: 5min 9s\n",
      "Wall time: 4min 55s\n"
     ]
    }
   ],
   "source": [
    "%%time\n",
    "node2vec = Node2Vec(G_labels, dimensions=32, walk_length=6, num_walks=100, workers=2)\n",
    "model_G_labels = node2vec.fit(window=10, min_count=1, batch_words=4)"
   ]
  },
  {
   "cell_type": "markdown",
   "metadata": {
    "id": "E7rz6m4CXlX1"
   },
   "source": []
  },
  {
   "cell_type": "markdown",
   "metadata": {
    "id": "GgYj-i5PXlf8"
   },
   "source": [
    "## 2.10.2. Node2Vec: For all edges and all nodes \n"
   ]
  },
  {
   "cell_type": "code",
   "execution_count": 67,
   "metadata": {
    "colab": {
     "referenced_widgets": [
      "09359416fde64199b9da179e7feeed70"
     ]
    },
    "id": "ymns2AMwAwpo",
    "outputId": "b8e64cae-66d3-472e-9197-f4a9359b3c08"
   },
   "outputs": [
    {
     "data": {
      "application/vnd.jupyter.widget-view+json": {
       "model_id": "933aed1ec1064bcfaf295633fa9abbfd",
       "version_major": 2,
       "version_minor": 0
      },
      "text/plain": [
       "Computing transition probabilities:   0%|          | 0/36928 [00:00<?, ?it/s]"
      ]
     },
     "metadata": {},
     "output_type": "display_data"
    },
    {
     "name": "stdout",
     "output_type": "stream",
     "text": [
      "CPU times: user 14min 3s, sys: 2min 44s, total: 16min 47s\n",
      "Wall time: 16min 29s\n"
     ]
    }
   ],
   "source": [
    "%%time\n",
    "node2vec = Node2Vec(G_all_nodes_edge, dimensions=32, walk_length=6, num_walks=100, workers=2)\n",
    "model_G_all_nodes_edge = node2vec.fit(window=10, min_count=1, batch_words=4)"
   ]
  },
  {
   "cell_type": "markdown",
   "metadata": {
    "id": "8fvtxvRKXscF"
   },
   "source": [
    "## 2.10.3. Node2Vec: For only those nodes that has edges and labels."
   ]
  },
  {
   "cell_type": "code",
   "execution_count": 68,
   "metadata": {
    "colab": {
     "referenced_widgets": [
      "751348c490bc4682bbf3c8040d62f845"
     ]
    },
    "id": "VWtaAlJ7Awpo",
    "outputId": "1bf34995-dddf-491c-e8de-b1aaac9744ce"
   },
   "outputs": [
    {
     "data": {
      "application/vnd.jupyter.widget-view+json": {
       "model_id": "1784474234f045709be4e59f1d9106ac",
       "version_major": 2,
       "version_minor": 0
      },
      "text/plain": [
       "Computing transition probabilities:   0%|          | 0/6565 [00:00<?, ?it/s]"
      ]
     },
     "metadata": {},
     "output_type": "display_data"
    },
    {
     "name": "stdout",
     "output_type": "stream",
     "text": [
      "CPU times: user 2min 40s, sys: 35.1 s, total: 3min 15s\n",
      "Wall time: 3min 21s\n"
     ]
    }
   ],
   "source": [
    "%%time\n",
    "node2vec = Node2Vec(G_all_interconnected_edge, dimensions=32, walk_length=6, num_walks=100, workers=2)\n",
    "model_G_all_interconnected_edge = node2vec.fit(window=10, min_count=1, batch_words=4)"
   ]
  },
  {
   "cell_type": "markdown",
   "metadata": {
    "id": "GMqRgDdNpL5B"
   },
   "source": [
    "## 2.11. Saving Model"
   ]
  },
  {
   "cell_type": "code",
   "execution_count": 69,
   "metadata": {
    "id": "_ppY9Su6Awpo"
   },
   "outputs": [],
   "source": [
    "# Save the Modle to file in the current working directory\n",
    "# Load the Model to ile\n",
    "with open(\"model_node2vec_1.pkl\", 'wb') as file:  \n",
    "    pickle.dump(model_G_labels, file)\n",
    "with open(\"model_node2vec_2.pkl\", 'wb') as file:  \n",
    "    pickle.dump(model_G_all_nodes_edge, file)\n",
    "with open(\"model_node2vec_3.pkl\", 'wb') as file:  \n",
    "    pickle.dump(model_G_all_interconnected_edge, file)\n",
    "# Load the Model back from file\n",
    "with open(\"model_node2vec_1.pkl\", 'rb') as file:  \n",
    "    model_G_labels = pickle.load(file)\n",
    "with open(\"model_node2vec_2.pkl\", 'rb') as file:  \n",
    "    model_G_all_nodes_edge = pickle.load(file)\n",
    "with open(\"model_node2vec_1.pkl\", 'rb') as file:  \n",
    "    model_G_all_interconnected_edge = pickle.load(file)"
   ]
  },
  {
   "cell_type": "markdown",
   "metadata": {
    "id": "GlvoHuASpIH2"
   },
   "source": [
    "## 2.12. Checking embedding and similar nodes"
   ]
  },
  {
   "cell_type": "code",
   "execution_count": 70,
   "metadata": {
    "id": "H20-MIrEbCdo",
    "outputId": "bfa6c0d1-676f-437e-fb1a-ad2654331646"
   },
   "outputs": [
    {
     "data": {
      "text/plain": [
       "array([-2.90005952e-02,  9.75771993e-03,  2.25731134e-02,  1.56452432e-02,\n",
       "       -9.69251990e-03,  2.68204585e-02, -2.04890966e-05,  6.30199164e-03,\n",
       "        7.07638264e-03, -1.01271942e-02, -1.64253265e-02,  2.42760181e-02,\n",
       "        2.70873606e-02, -5.15621156e-03,  2.76765972e-02, -2.19058022e-02,\n",
       "       -8.21018964e-03, -1.07980967e-02,  2.03927979e-02,  1.18274465e-02,\n",
       "        2.61445493e-02, -1.46904960e-02,  1.22080669e-02,  1.02399513e-02,\n",
       "        1.24452040e-02, -2.67198980e-02, -7.97796994e-03, -4.45427001e-03,\n",
       "        2.05619857e-02, -1.07435212e-02, -8.67394358e-03,  1.68910325e-02],\n",
       "      dtype=float32)"
      ]
     },
     "execution_count": 70,
     "metadata": {},
     "output_type": "execute_result"
    }
   ],
   "source": [
    "model_G_labels.wv.get_vector('66779408')"
   ]
  },
  {
   "cell_type": "code",
   "execution_count": 71,
   "metadata": {
    "id": "OqyGDr8hbDTu",
    "outputId": "07a3dc79-9ad8-42af-e321-b601f2e8d4c9"
   },
   "outputs": [
    {
     "data": {
      "text/plain": [
       "[('51790431', 0.6537933945655823),\n",
       " ('10304600', 0.6428183913230896),\n",
       " ('28143942', 0.5725999474525452),\n",
       " ('35936978', 0.5570929646492004),\n",
       " ('34812125', 0.5488573908805847),\n",
       " ('21791503', 0.5442457795143127),\n",
       " ('23787166', 0.544094979763031),\n",
       " ('39727361', 0.5410721898078918),\n",
       " ('11590324', 0.5383136868476868),\n",
       " ('62427954', 0.5313761234283447)]"
      ]
     },
     "execution_count": 71,
     "metadata": {},
     "output_type": "execute_result"
    }
   ],
   "source": [
    "model_G_labels.wv.most_similar('66779408')"
   ]
  },
  {
   "cell_type": "markdown",
   "metadata": {
    "id": "eZl9qKYnAwpp"
   },
   "source": [
    "## 2.13. Creating Random seed numbers"
   ]
  },
  {
   "cell_type": "code",
   "execution_count": 72,
   "metadata": {
    "id": "SkxTN0n9Awpp",
    "outputId": "4c6a6340-fb1a-47fb-b690-c9882ab10e82"
   },
   "outputs": [
    {
     "name": "stdout",
     "output_type": "stream",
     "text": [
      "[79, 26, 39, 7, 74, 64, 15, 2, 15, 16]\n"
     ]
    }
   ],
   "source": [
    "randomlist = []\n",
    "for i in range(0,10):\n",
    "    n = random.randint(1,100)\n",
    "    randomlist.append(n)\n",
    "print(randomlist)"
   ]
  },
  {
   "cell_type": "markdown",
   "metadata": {
    "id": "UVgxP2712BiI"
   },
   "source": [
    "I'm using this random seeds for K-means clustering to get the NMI score of different seeds and get the average of all the NMI scores and give us the output. "
   ]
  },
  {
   "cell_type": "markdown",
   "metadata": {
    "id": "_f2j-VSoYXOu"
   },
   "source": [
    "## 2.14. K-means clustering:\n",
    "\n",
    "K-Means Clustering could be a basic however effective calculation in information science There are a plethora of real-world applications of K-Means Clustering (many of which we'll  cover here) This comprehensive direct will present you to the world of clustering and K-Means Clustering together with usage in Python on a real-world dataset"
   ]
  },
  {
   "cell_type": "markdown",
   "metadata": {
    "id": "zySAkyX6Awpp"
   },
   "source": [
    "## 2.14.1. K-means clustering: For all edges and nodes which has labels"
   ]
  },
  {
   "cell_type": "code",
   "execution_count": 73,
   "metadata": {
    "id": "DrjMRqeebDMA",
    "outputId": "6bd02bad-e716-468e-85c8-cfcc16f89e91"
   },
   "outputs": [
    {
     "name": "stdout",
     "output_type": "stream",
     "text": [
      "Average of NMI score for 10 random seeds for Kmeans : 0.2831131379322988\n"
     ]
    }
   ],
   "source": [
    "embedding_1 = []\n",
    "for i in G_labels.nodes():\n",
    "     embedding_1.append(model_G_labels.wv.get_vector(str(i)))\n",
    "        \n",
    "NMI_score_avg = []\n",
    "\n",
    "for i in randomlist:\n",
    "    np.random.seed(i)\n",
    "    kmeans = KMeans(init='k-means++', n_clusters=5, n_init=35)\n",
    "    kmeans.fit_predict(embedding_1)\n",
    "    centroids = kmeans.cluster_centers_\n",
    "    labels = kmeans.labels_\n",
    "    error = kmeans.inertia_\n",
    "    true_labels = df_nodes['label'].values\n",
    "    predicted_labels = labels\n",
    "    NMI = normalized_mutual_info_score(true_labels, predicted_labels)\n",
    "    NMI_score_avg.append(NMI)\n",
    "    \n",
    "print('Average of NMI score for 10 random seeds for Kmeans :', statistics.mean(NMI_score_avg))"
   ]
  },
  {
   "cell_type": "code",
   "execution_count": 74,
   "metadata": {
    "id": "ibXEKK5wAwpp"
   },
   "outputs": [],
   "source": [
    "colors = ['#00BFFF', '#FF3030', '#FFD700', '#CAFF70', '#BF3EFF']"
   ]
  },
  {
   "cell_type": "code",
   "execution_count": 75,
   "metadata": {
    "id": "8kLQOqUAAwpp",
    "outputId": "29f3b5b6-c985-401c-c78c-29909667323c"
   },
   "outputs": [
    {
     "data": {
      "image/png": "[encoded data removed]",
      "text/plain": [
       "<Figure size 864x576 with 1 Axes>"
      ]
     },
     "metadata": {},
     "output_type": "display_data"
    }
   ],
   "source": [
    "node_colors = [colors[v] for v in labels]\n",
    "fig = plt.subplots(1, figsize=(12,8))\n",
    "nx.draw(G_labels, node_color=node_colors,node_size =10)"
   ]
  },
  {
   "cell_type": "markdown",
   "metadata": {
    "id": "U2tesqZs2VWD"
   },
   "source": [
    "The above graph is for all the clusters the K-means has predicted. This graph shows the clustering for all the nodes and all the edges that has labels. From the graph, we can see that some nodes don't have any edges but have a label attached to them. Most of the unedges nodes are blue and are segregated at the letter of the graph. We are also able to see that there are a few of the green and the red non-edged nodes. These notes are not that frequent as blue ones, but they are present. We are also able to see that some of the blue and green has some number of edges which we can see between the centre and the corners. There are some green and red nodes that have strong edges, we can see those at the middle and are attached very strongly to each other. One of the most important nodes which have very strong edges connected are violet in colour and are mostly in the centre. These nodes have a high number of edges with each other so are very close to each other. Like violet, yellow labels are also a very high number of edges connected that is the reason why those edges are very close to each other and are at the centre. \n",
    "\n",
    "We can also see that the NMI score for the true and predictable label are very less that is 0.2876. This means that the clusters are not properly identified by the K-means model. "
   ]
  },
  {
   "cell_type": "markdown",
   "metadata": {
    "id": "1EWFuAVNYc3J"
   },
   "source": [
    "## 2.14.2. K-means clustering: For only those nodes that has edges and labels."
   ]
  },
  {
   "cell_type": "code",
   "execution_count": 76,
   "metadata": {
    "id": "qdKPAPnUAwpp",
    "outputId": "bd5d61c1-e819-4437-ecc6-eaa82856face"
   },
   "outputs": [
    {
     "name": "stdout",
     "output_type": "stream",
     "text": [
      "Average of NMI score for 10 random seeds for Kmeans : 0.2169083295493949\n"
     ]
    }
   ],
   "source": [
    "embedding_2 = []\n",
    "true_labels_2 = []\n",
    "for i in G_all_interconnected_edge.nodes():\n",
    "    embedding_2.append(model_G_all_interconnected_edge.wv.get_vector(str(i)))\n",
    "    a = df_nodes[df_nodes['node_id'] == i]['label'].values[0]\n",
    "    true_labels_2.append(a)\n",
    "    \n",
    "NMI_score_avg = []\n",
    "\n",
    "for i in randomlist:\n",
    "    np.random.seed(i)\n",
    "    kmeans = KMeans(init='k-means++', n_clusters=5, n_init=35)\n",
    "    kmeans.fit_predict(embedding_2)\n",
    "    centroids = kmeans.cluster_centers_\n",
    "    labels = kmeans.labels_\n",
    "    error = kmeans.inertia_\n",
    "    true_labels = true_labels_2\n",
    "    predicted_labels = labels\n",
    "    NMI = normalized_mutual_info_score(true_labels, predicted_labels)\n",
    "    NMI_score_avg.append(NMI)\n",
    "    \n",
    "print('Average of NMI score for 10 random seeds for Kmeans :', statistics.mean(NMI_score_avg))"
   ]
  },
  {
   "cell_type": "code",
   "execution_count": 77,
   "metadata": {
    "id": "XsNk3ZCMAwpq",
    "outputId": "07cc66eb-1a8a-4a8a-d58c-2a45c6db089b"
   },
   "outputs": [
    {
     "data": {
      "image/png": "[encoded data removed]",
      "text/plain": [
       "<Figure size 864x576 with 1 Axes>"
      ]
     },
     "metadata": {},
     "output_type": "display_data"
    }
   ],
   "source": [
    "node_colors = [colors[v] for v in labels]\n",
    "fig = plt.subplots(1, figsize=(12,8))\n",
    "nx.draw(G_all_interconnected_edge, node_color=node_colors, node_size =10)"
   ]
  },
  {
   "cell_type": "markdown",
   "metadata": {
    "id": "RoQxhykp4GI3"
   },
   "source": [
    "The above graph shows the nodes and edges graph for the nodes that have at least one edge. The graph also shows that nodes with the same label have most of the same label nodes attached to them. If we compare this graph to the above graph we can also see a clear image of the clustering of the nodes with their edges. We can see that green, yellow, violet, blue and red colour labels are grouped and clustered strongly together at the centred, whereas at the corners blue, red and violet colours are only there. The order. We are also able to see two clustered which are the centre and the corners which are shows that only a few labels have very few edges, while other nodes have strongly connected edges. We can see from the above graph that green and yellow are two different nodes that are segregated into different clusters. \n",
    "\n",
    "Still, the NMI score is 0.2067 which is less than the above score we got. From this, I was able to understand that if we reduced the nodes for the cluster, it is hard for the model to find the clusters in the data. Which means it will reduce the NMI score for the model. "
   ]
  },
  {
   "cell_type": "markdown",
   "metadata": {
    "id": "nmNUVYyjYhdq"
   },
   "source": [
    "2.14.3. K-means clustering: For all edges and all nodes "
   ]
  },
  {
   "cell_type": "code",
   "execution_count": 78,
   "metadata": {
    "id": "HL7pqALoAwpq",
    "outputId": "241311ff-fbec-40d6-d553-dcf3f85b63cb"
   },
   "outputs": [
    {
     "name": "stdout",
     "output_type": "stream",
     "text": [
      "Average of NMI score for 10 random seeds for Kmeans : 0.3370676120419057\n"
     ]
    }
   ],
   "source": [
    "embedding_3 = []\n",
    "for i in df_nodes['node_id']:\n",
    "     embedding_3.append(model_G_all_nodes_edge.wv.get_vector(str(i)))\n",
    "        \n",
    "NMI_score_avg = []\n",
    "\n",
    "for i in randomlist:\n",
    "    np.random.seed(i)\n",
    "    kmeans = KMeans(init='k-means++', n_clusters=5, n_init=35)\n",
    "    kmeans.fit_predict(embedding_3)\n",
    "    centroids = kmeans.cluster_centers_\n",
    "    labels = kmeans.labels_\n",
    "    error = kmeans.inertia_\n",
    "    true_labels = df_nodes['label'].values\n",
    "    predicted_labels = labels\n",
    "    NMI = normalized_mutual_info_score(true_labels, predicted_labels)\n",
    "    NMI_score_avg.append(NMI)\n",
    "    \n",
    "print('Average of NMI score for 10 random seeds for Kmeans :', statistics.mean(NMI_score_avg))"
   ]
  },
  {
   "cell_type": "markdown",
   "metadata": {
    "id": "wzJHBQEMDGAg"
   },
   "source": [
    "Finally, for Node2Vec embedding, I tried all the model and edges that are given in the dataset. Which doesn't have labels present in it too. This has increased the number of nodes and edges in the graph but, also increased the time to compute the model. As its learning each embedding that doesn't have a label attached to it, the model can learn more from the dataset. which is why we are getting the highest NMI score among all the above models. For this, we are getting a 0.3369 NMI score. Which is less in itself, but is far much better than the above model. This graph has nodes that don't have labels attached to it. We cannot create a clustering graph for this model. "
   ]
  },
  {
   "cell_type": "markdown",
   "metadata": {
    "id": "7-p-jtT6Y7ze"
   },
   "source": [
    "## 2.15. Embedding: **laplacian_matrix:**"
   ]
  },
  {
   "cell_type": "markdown",
   "metadata": {
    "id": "5SlF8WwHFV5r"
   },
   "source": [
    "The instinct for this may be spurred by perceiving the Laplacian has a few valuable properties missing within the contiguousness matrix: The littlest eigenvalue of 𝐿 L is 𝜆0=0 λ 0 = 0 and its assortment breaks even with the number of associated components within the graph. The eigenspace of 𝜆0 λ 0 is traversed by the marker vectors of those components. 𝐿 L is singular 𝐿=𝑈𝑈𝑇 L = U U T where 𝑈 U is the rate framework of the (subjectively coordinated) chart (and consequently 𝐿 L is positive-semidefinite)"
   ]
  },
  {
   "cell_type": "code",
   "execution_count": 79,
   "metadata": {
    "id": "oyIujUvbAwpq"
   },
   "outputs": [],
   "source": [
    "L = nx.laplacian_matrix(G_all_interconnected_edge).astype(float)\n",
    "w,v = sp.sparse.linalg.eigsh(L, k = 5, which='SM')\n",
    "X = v*w"
   ]
  },
  {
   "cell_type": "code",
   "execution_count": 80,
   "metadata": {
    "id": "To-m7mosAwpq",
    "outputId": "17f0a15d-401e-44b6-d874-c59ada6c7ba9"
   },
   "outputs": [
    {
     "name": "stdout",
     "output_type": "stream",
     "text": [
      "Average of NMI score for 10 random seeds for Kmeans : 0.22891481172641798\n"
     ]
    }
   ],
   "source": [
    "NMI_score_avg = []\n",
    "\n",
    "for i in randomlist:\n",
    "    np.random.seed(i)\n",
    "    kmeans = KMeans(init='k-means++', n_clusters=5, n_init=35)\n",
    "    kmeans.fit_predict(X)\n",
    "    centroids = kmeans.cluster_centers_\n",
    "    labels = kmeans.labels_\n",
    "    error = kmeans.inertia_\n",
    "    true_labels = true_labels_2\n",
    "    predicted_labels = labels\n",
    "    NMI = normalized_mutual_info_score(true_labels, predicted_labels)\n",
    "    NMI_score_avg.append(NMI)\n",
    "    \n",
    "print('Average of NMI score for 10 random seeds for Kmeans :', statistics.mean(NMI_score_avg))"
   ]
  },
  {
   "cell_type": "code",
   "execution_count": 81,
   "metadata": {
    "id": "QehkklIEAwpq",
    "outputId": "c7c9ae61-c461-4b72-9c53-2ce5b77b0949"
   },
   "outputs": [
    {
     "data": {
      "image/png": "[encoded data removed]",
      "text/plain": [
       "<Figure size 864x576 with 1 Axes>"
      ]
     },
     "metadata": {},
     "output_type": "display_data"
    }
   ],
   "source": [
    "node_colors = [colors[v] for v in labels]\n",
    "fig = plt.subplots(1, figsize=(12,8))\n",
    "nx.draw(G_all_interconnected_edge, node_color=node_colors, node_size =10)"
   ]
  },
  {
   "cell_type": "markdown",
   "metadata": {
    "id": "CEi-anV-GteM"
   },
   "source": [
    "Laplacian matrix is another Graph embedding method. I used to compare another embedding method to find the NMI score for another embedding then Node2Vec embedding. But from the results, we can see that Node2Vec embedding has done a very good job to help k-means clustering to get the good NMI score which was 0.3369. Whereas the Laplacian matrix embedding doesn't help much to k-means to cluster the nodes. This embedding has to give us a very less NMI score which is 0.0852. This score is far much less the Node2vec embedding. From this, we can clearly say that the Node2vec embedding is far much better than laplacian matrix embedding for this dataset. \n",
    "\n",
    "From the graphs also we are not able to predict better than the above graphs. In this graph, blue is at the centre and we are not able to see the other another clustered in a better way. "
   ]
  },
  {
   "cell_type": "markdown",
   "metadata": {
    "id": "4Fx-j6-1GoZ9"
   },
   "source": [
    "**Conclusion:** \n",
    "1.   Node2Vec embedding is better than the Laplacian matrix. \n",
    "2.   Keeping embedding of all the nodes and edges which doesn't have labels will give us better clustering."
   ]
  },
  {
   "cell_type": "markdown",
   "metadata": {
    "id": "KNn0MkwwZKSr"
   },
   "source": [
    "**Reference:**\n",
    "\n",
    "Monash FIT5212 Data analysis for semi-structured data week 8, 9, 10 and 11 materials.\n",
    "\n",
    "**Thank You**"
   ]
  }
 ],
 "metadata": {
  "accelerator": "GPU",
  "colab": {
   "collapsed_sections": [],
   "name": "31132324_code.ipynb",
   "provenance": []
  },
  "kernelspec": {
   "display_name": "Python 3",
   "language": "python",
   "name": "python3"
  },
  "language_info": {
   "codemirror_mode": {
    "name": "ipython",
    "version": 3
   },
   "file_extension": ".py",
   "mimetype": "text/x-python",
   "name": "python",
   "nbconvert_exporter": "python",
   "pygments_lexer": "ipython3",
   "version": "3.8.10"
  },
  "widgets": {
   "application/vnd.jupyter.widget-state+json": {
    "02d23681089b485bb538cdd64d7f2746": {
     "model_module": "@jupyter-widgets/base",
     "model_name": "LayoutModel",
     "state": {
      "_model_module": "@jupyter-widgets/base",
      "_model_module_version": "1.2.0",
      "_model_name": "LayoutModel",
      "_view_count": null,
      "_view_module": "@jupyter-widgets/base",
      "_view_module_version": "1.2.0",
      "_view_name": "LayoutView",
      "align_content": null,
      "align_items": null,
      "align_self": null,
      "border": null,
      "bottom": null,
      "display": null,
      "flex": null,
      "flex_flow": null,
      "grid_area": null,
      "grid_auto_columns": null,
      "grid_auto_flow": null,
      "grid_auto_rows": null,
      "grid_column": null,
      "grid_gap": null,
      "grid_row": null,
      "grid_template_areas": null,
      "grid_template_columns": null,
      "grid_template_rows": null,
      "height": null,
      "justify_content": null,
      "justify_items": null,
      "left": null,
      "margin": null,
      "max_height": null,
      "max_width": null,
      "min_height": null,
      "min_width": null,
      "object_fit": null,
      "object_position": null,
      "order": null,
      "overflow": null,
      "overflow_x": null,
      "overflow_y": null,
      "padding": null,
      "right": null,
      "top": null,
      "visibility": null,
      "width": null
     }
    },
    "274db5db71714da180004deee0ebab62": {
     "model_module": "@jupyter-widgets/controls",
     "model_name": "HTMLModel",
     "state": {
      "_dom_classes": [],
      "_model_module": "@jupyter-widgets/controls",
      "_model_module_version": "1.5.0",
      "_model_name": "HTMLModel",
      "_view_count": null,
      "_view_module": "@jupyter-widgets/controls",
      "_view_module_version": "1.5.0",
      "_view_name": "HTMLView",
      "description": "",
      "description_tooltip": null,
      "layout": "IPY_MODEL_bd89d903d59e405fbf70ba6927c5c919",
      "placeholder": "​",
      "style": "IPY_MODEL_d8a141f283af4d5dbd4c9f6a811b3f89",
      "value": " 36928/36928 [09:45&lt;00:00, 63.12it/s]"
     }
    },
    "352413a34b8c4759b0d94f87fcd390bd": {
     "model_module": "@jupyter-widgets/controls",
     "model_name": "FloatProgressModel",
     "state": {
      "_dom_classes": [],
      "_model_module": "@jupyter-widgets/controls",
      "_model_module_version": "1.5.0",
      "_model_name": "FloatProgressModel",
      "_view_count": null,
      "_view_module": "@jupyter-widgets/controls",
      "_view_module_version": "1.5.0",
      "_view_name": "ProgressView",
      "bar_style": "success",
      "description": "Computing transition probabilities: 100%",
      "description_tooltip": null,
      "layout": "IPY_MODEL_a210d953a30940d4a775e1f0ee10dc82",
      "max": 36928,
      "min": 0,
      "orientation": "horizontal",
      "style": "IPY_MODEL_873ae819cb9c4923b34fcbd7610733da",
      "value": 36928
     }
    },
    "41aa68f042a84871a2b19b85b57b0d8f": {
     "model_module": "@jupyter-widgets/controls",
     "model_name": "FloatProgressModel",
     "state": {
      "_dom_classes": [],
      "_model_module": "@jupyter-widgets/controls",
      "_model_module_version": "1.5.0",
      "_model_name": "FloatProgressModel",
      "_view_count": null,
      "_view_module": "@jupyter-widgets/controls",
      "_view_module_version": "1.5.0",
      "_view_name": "ProgressView",
      "bar_style": "success",
      "description": "100%",
      "description_tooltip": null,
      "layout": "IPY_MODEL_f9d00f73974d453b88d666e63e4f4b0c",
      "max": 500,
      "min": 0,
      "orientation": "horizontal",
      "style": "IPY_MODEL_cd0d67bfb7fd4b169d539da74119f79a",
      "value": 500
     }
    },
    "4cc362bb1cfd46b78f35432331979692": {
     "model_module": "@jupyter-widgets/controls",
     "model_name": "HBoxModel",
     "state": {
      "_dom_classes": [],
      "_model_module": "@jupyter-widgets/controls",
      "_model_module_version": "1.5.0",
      "_model_name": "HBoxModel",
      "_view_count": null,
      "_view_module": "@jupyter-widgets/controls",
      "_view_module_version": "1.5.0",
      "_view_name": "HBoxView",
      "box_style": "",
      "children": [
       "IPY_MODEL_41aa68f042a84871a2b19b85b57b0d8f",
       "IPY_MODEL_84df230429b347a4b8bb8b80454d3074"
      ],
      "layout": "IPY_MODEL_58b16bc979944eeb8b73871cf539667a"
     }
    },
    "58b16bc979944eeb8b73871cf539667a": {
     "model_module": "@jupyter-widgets/base",
     "model_name": "LayoutModel",
     "state": {
      "_model_module": "@jupyter-widgets/base",
      "_model_module_version": "1.2.0",
      "_model_name": "LayoutModel",
      "_view_count": null,
      "_view_module": "@jupyter-widgets/base",
      "_view_module_version": "1.2.0",
      "_view_name": "LayoutView",
      "align_content": null,
      "align_items": null,
      "align_self": null,
      "border": null,
      "bottom": null,
      "display": null,
      "flex": null,
      "flex_flow": null,
      "grid_area": null,
      "grid_auto_columns": null,
      "grid_auto_flow": null,
      "grid_auto_rows": null,
      "grid_column": null,
      "grid_gap": null,
      "grid_row": null,
      "grid_template_areas": null,
      "grid_template_columns": null,
      "grid_template_rows": null,
      "height": null,
      "justify_content": null,
      "justify_items": null,
      "left": null,
      "margin": null,
      "max_height": null,
      "max_width": null,
      "min_height": null,
      "min_width": null,
      "object_fit": null,
      "object_position": null,
      "order": null,
      "overflow": null,
      "overflow_x": null,
      "overflow_y": null,
      "padding": null,
      "right": null,
      "top": null,
      "visibility": null,
      "width": null
     }
    },
    "84df230429b347a4b8bb8b80454d3074": {
     "model_module": "@jupyter-widgets/controls",
     "model_name": "HTMLModel",
     "state": {
      "_dom_classes": [],
      "_model_module": "@jupyter-widgets/controls",
      "_model_module_version": "1.5.0",
      "_model_name": "HTMLModel",
      "_view_count": null,
      "_view_module": "@jupyter-widgets/controls",
      "_view_module_version": "1.5.0",
      "_view_name": "HTMLView",
      "description": "",
      "description_tooltip": null,
      "layout": "IPY_MODEL_ca9f13f0673446f49011cd27521d966e",
      "placeholder": "​",
      "style": "IPY_MODEL_b41553a86604464494f557c97d780255",
      "value": " 500/500 [00:02&lt;00:00, 199.02it/s]"
     }
    },
    "873ae819cb9c4923b34fcbd7610733da": {
     "model_module": "@jupyter-widgets/controls",
     "model_name": "ProgressStyleModel",
     "state": {
      "_model_module": "@jupyter-widgets/controls",
      "_model_module_version": "1.5.0",
      "_model_name": "ProgressStyleModel",
      "_view_count": null,
      "_view_module": "@jupyter-widgets/base",
      "_view_module_version": "1.2.0",
      "_view_name": "StyleView",
      "bar_color": null,
      "description_width": "initial"
     }
    },
    "a210d953a30940d4a775e1f0ee10dc82": {
     "model_module": "@jupyter-widgets/base",
     "model_name": "LayoutModel",
     "state": {
      "_model_module": "@jupyter-widgets/base",
      "_model_module_version": "1.2.0",
      "_model_name": "LayoutModel",
      "_view_count": null,
      "_view_module": "@jupyter-widgets/base",
      "_view_module_version": "1.2.0",
      "_view_name": "LayoutView",
      "align_content": null,
      "align_items": null,
      "align_self": null,
      "border": null,
      "bottom": null,
      "display": null,
      "flex": null,
      "flex_flow": null,
      "grid_area": null,
      "grid_auto_columns": null,
      "grid_auto_flow": null,
      "grid_auto_rows": null,
      "grid_column": null,
      "grid_gap": null,
      "grid_row": null,
      "grid_template_areas": null,
      "grid_template_columns": null,
      "grid_template_rows": null,
      "height": null,
      "justify_content": null,
      "justify_items": null,
      "left": null,
      "margin": null,
      "max_height": null,
      "max_width": null,
      "min_height": null,
      "min_width": null,
      "object_fit": null,
      "object_position": null,
      "order": null,
      "overflow": null,
      "overflow_x": null,
      "overflow_y": null,
      "padding": null,
      "right": null,
      "top": null,
      "visibility": null,
      "width": null
     }
    },
    "b41553a86604464494f557c97d780255": {
     "model_module": "@jupyter-widgets/controls",
     "model_name": "DescriptionStyleModel",
     "state": {
      "_model_module": "@jupyter-widgets/controls",
      "_model_module_version": "1.5.0",
      "_model_name": "DescriptionStyleModel",
      "_view_count": null,
      "_view_module": "@jupyter-widgets/base",
      "_view_module_version": "1.2.0",
      "_view_name": "StyleView",
      "description_width": ""
     }
    },
    "b75020a99ef5429cabe4e2697170accd": {
     "model_module": "@jupyter-widgets/controls",
     "model_name": "HBoxModel",
     "state": {
      "_dom_classes": [],
      "_model_module": "@jupyter-widgets/controls",
      "_model_module_version": "1.5.0",
      "_model_name": "HBoxModel",
      "_view_count": null,
      "_view_module": "@jupyter-widgets/controls",
      "_view_module_version": "1.5.0",
      "_view_name": "HBoxView",
      "box_style": "",
      "children": [
       "IPY_MODEL_352413a34b8c4759b0d94f87fcd390bd",
       "IPY_MODEL_274db5db71714da180004deee0ebab62"
      ],
      "layout": "IPY_MODEL_02d23681089b485bb538cdd64d7f2746"
     }
    },
    "bd89d903d59e405fbf70ba6927c5c919": {
     "model_module": "@jupyter-widgets/base",
     "model_name": "LayoutModel",
     "state": {
      "_model_module": "@jupyter-widgets/base",
      "_model_module_version": "1.2.0",
      "_model_name": "LayoutModel",
      "_view_count": null,
      "_view_module": "@jupyter-widgets/base",
      "_view_module_version": "1.2.0",
      "_view_name": "LayoutView",
      "align_content": null,
      "align_items": null,
      "align_self": null,
      "border": null,
      "bottom": null,
      "display": null,
      "flex": null,
      "flex_flow": null,
      "grid_area": null,
      "grid_auto_columns": null,
      "grid_auto_flow": null,
      "grid_auto_rows": null,
      "grid_column": null,
      "grid_gap": null,
      "grid_row": null,
      "grid_template_areas": null,
      "grid_template_columns": null,
      "grid_template_rows": null,
      "height": null,
      "justify_content": null,
      "justify_items": null,
      "left": null,
      "margin": null,
      "max_height": null,
      "max_width": null,
      "min_height": null,
      "min_width": null,
      "object_fit": null,
      "object_position": null,
      "order": null,
      "overflow": null,
      "overflow_x": null,
      "overflow_y": null,
      "padding": null,
      "right": null,
      "top": null,
      "visibility": null,
      "width": null
     }
    },
    "ca9f13f0673446f49011cd27521d966e": {
     "model_module": "@jupyter-widgets/base",
     "model_name": "LayoutModel",
     "state": {
      "_model_module": "@jupyter-widgets/base",
      "_model_module_version": "1.2.0",
      "_model_name": "LayoutModel",
      "_view_count": null,
      "_view_module": "@jupyter-widgets/base",
      "_view_module_version": "1.2.0",
      "_view_name": "LayoutView",
      "align_content": null,
      "align_items": null,
      "align_self": null,
      "border": null,
      "bottom": null,
      "display": null,
      "flex": null,
      "flex_flow": null,
      "grid_area": null,
      "grid_auto_columns": null,
      "grid_auto_flow": null,
      "grid_auto_rows": null,
      "grid_column": null,
      "grid_gap": null,
      "grid_row": null,
      "grid_template_areas": null,
      "grid_template_columns": null,
      "grid_template_rows": null,
      "height": null,
      "justify_content": null,
      "justify_items": null,
      "left": null,
      "margin": null,
      "max_height": null,
      "max_width": null,
      "min_height": null,
      "min_width": null,
      "object_fit": null,
      "object_position": null,
      "order": null,
      "overflow": null,
      "overflow_x": null,
      "overflow_y": null,
      "padding": null,
      "right": null,
      "top": null,
      "visibility": null,
      "width": null
     }
    },
    "cd0d67bfb7fd4b169d539da74119f79a": {
     "model_module": "@jupyter-widgets/controls",
     "model_name": "ProgressStyleModel",
     "state": {
      "_model_module": "@jupyter-widgets/controls",
      "_model_module_version": "1.5.0",
      "_model_name": "ProgressStyleModel",
      "_view_count": null,
      "_view_module": "@jupyter-widgets/base",
      "_view_module_version": "1.2.0",
      "_view_name": "StyleView",
      "bar_color": null,
      "description_width": "initial"
     }
    },
    "d8a141f283af4d5dbd4c9f6a811b3f89": {
     "model_module": "@jupyter-widgets/controls",
     "model_name": "DescriptionStyleModel",
     "state": {
      "_model_module": "@jupyter-widgets/controls",
      "_model_module_version": "1.5.0",
      "_model_name": "DescriptionStyleModel",
      "_view_count": null,
      "_view_module": "@jupyter-widgets/base",
      "_view_module_version": "1.2.0",
      "_view_name": "StyleView",
      "description_width": ""
     }
    },
    "f9d00f73974d453b88d666e63e4f4b0c": {
     "model_module": "@jupyter-widgets/base",
     "model_name": "LayoutModel",
     "state": {
      "_model_module": "@jupyter-widgets/base",
      "_model_module_version": "1.2.0",
      "_model_name": "LayoutModel",
      "_view_count": null,
      "_view_module": "@jupyter-widgets/base",
      "_view_module_version": "1.2.0",
      "_view_name": "LayoutView",
      "align_content": null,
      "align_items": null,
      "align_self": null,
      "border": null,
      "bottom": null,
      "display": null,
      "flex": null,
      "flex_flow": null,
      "grid_area": null,
      "grid_auto_columns": null,
      "grid_auto_flow": null,
      "grid_auto_rows": null,
      "grid_column": null,
      "grid_gap": null,
      "grid_row": null,
      "grid_template_areas": null,
      "grid_template_columns": null,
      "grid_template_rows": null,
      "height": null,
      "justify_content": null,
      "justify_items": null,
      "left": null,
      "margin": null,
      "max_height": null,
      "max_width": null,
      "min_height": null,
      "min_width": null,
      "object_fit": null,
      "object_position": null,
      "order": null,
      "overflow": null,
      "overflow_x": null,
      "overflow_y": null,
      "padding": null,
      "right": null,
      "top": null,
      "visibility": null,
      "width": null
     }
    }
   }
  }
 },
 "nbformat": 4,
 "nbformat_minor": 1
}
